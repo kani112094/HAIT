{
 "cells": [
  {
   "cell_type": "raw",
   "metadata": {},
   "source": [
    "目次\n",
    "・混同行列(2クラス分類)\n",
    "・性能指標\n",
    "    正答率(Accuracy)・・・分類がどれだけ正解したか\n",
    "    再現率(recall)・・・陽性であるサンプルをいかに見抜けたか\n",
    "    適合率(precision)・・・陽性判定がどれだけ信頼できるか\n",
    "    F値(F-measure)・・・再現率と適合率の調和平均\n",
    "・混同行列(3クラス分類)\n",
    "・ミクロ平均とマクロ平均"
   ]
  },
  {
   "cell_type": "raw",
   "metadata": {},
   "source": [
    "・混同行列(2クラス分類)    \n",
    "    ⒈分類モデルの準備\n",
    "    ⒉混同行列の出力"
   ]
  },
  {
   "cell_type": "raw",
   "metadata": {},
   "source": [
    "⒈分類モデルの準備"
   ]
  },
  {
   "cell_type": "code",
   "execution_count": 1,
   "metadata": {},
   "outputs": [
    {
     "data": {
      "text/plain": [
       "SVC(C=1.0, cache_size=200, class_weight=None, coef0=0.0,\n",
       "  decision_function_shape='ovr', degree=3, gamma='auto', kernel='linear',\n",
       "  max_iter=-1, probability=False, random_state=None, shrinking=True,\n",
       "  tol=0.001, verbose=False)"
      ]
     },
     "execution_count": 1,
     "metadata": {},
     "output_type": "execute_result"
    }
   ],
   "source": [
    "#ライブラリの読み込み\n",
    "import numpy as np\n",
    "import pandas as pd\n",
    "import matplotlib.pyplot as plt\n",
    "%matplotlib inline\n",
    "#データの準備(irisデータを用いる)\n",
    "from sklearn.datasets import load_iris \n",
    "iris=load_iris()\n",
    "X1=iris.data[50:,[0,2]]\n",
    "y1=iris.target[50:]\n",
    "#データの分割\n",
    "from sklearn.model_selection import train_test_split \n",
    "X1_train,X1_test,y1_train,y1_test=train_test_split(X1,y1,\n",
    "                                    test_size=0.3,random_state=0)\n",
    "#データの学習\n",
    "from sklearn.svm import SVC\n",
    "svm1=SVC(kernel=\"linear\",C=1.0)\n",
    "svm1.fit(X1_train,y1_train)"
   ]
  },
  {
   "cell_type": "raw",
   "metadata": {},
   "source": [
    "⒉混同行列の出力"
   ]
  },
  {
   "cell_type": "code",
   "execution_count": 2,
   "metadata": {},
   "outputs": [
    {
     "data": {
      "image/png": "[encoded data removed]",
      "text/plain": [
       "<matplotlib.figure.Figure at 0x1a1281e198>"
      ]
     },
     "metadata": {},
     "output_type": "display_data"
    }
   ],
   "source": [
    "#混同行列のarrayを作成\n",
    "from sklearn.metrics import confusion_matrix\n",
    "cm1=confusion_matrix(y1_test,svm1.predict(X1_test))\n",
    "# 混合行列をグラフでプロットする関数を定義\n",
    "def plot_cm(confmat):\n",
    "    fig, ax = plt.subplots(figsize=(5, 5))\n",
    "    ax.matshow(confmat, cmap=plt.cm.Blues, alpha=0.3)\n",
    "    for i in range(confmat.shape[0]):\n",
    "        for j in range(confmat.shape[1]):\n",
    "            ax.text(x=j, y=i, s=confmat[i, j], va='center', ha='center')\n",
    "    plt.title('predicted label')\n",
    "    plt.ylabel('true label')\n",
    "    plt.tight_layout() # ラベルが重ならないように自動調整\n",
    "    plt.show()\n",
    "#混同行列を出力\n",
    "plot_cm(cm1)"
   ]
  },
  {
   "cell_type": "raw",
   "metadata": {},
   "source": [
    "・性能指標\n",
    "    正答率(Accuracy)\n",
    "    分類がどれだけ正解したかを表し、以下の式で与えられる。\n",
    "        (TP+TN)/(TP+TN+FP+FN)=(正解のサンプル数)/(全てのサンプル数) \n",
    "\n",
    "    再現率(recall)\n",
    "    陽性をいかに見抜けたかを表し、以下の式で与えられる。\n",
    "        TP/(TP+FN)=(見抜けた陽性のサンプル数)/(全ての陽性のサンプル数)       \n",
    "\n",
    "    適合率(precision)\n",
    "    陽性判定がどれだけ信頼できるのかを表し、以下の形で表される。\n",
    "        TP/(TP+FP)=(本当に陽性だったサンプル数)/(陽性だと判定したサンプル数) \n",
    "\n",
    "    F値(F-measure)\n",
    "    再現率と適合率の調和平均である"
   ]
  },
  {
   "cell_type": "code",
   "execution_count": 27,
   "metadata": {},
   "outputs": [
    {
     "name": "stdout",
     "output_type": "stream",
     "text": [
      "acc:0.900000\n",
      "rec:0.866667\n",
      "pre:0.928571\n",
      "f1:0.896552\n"
     ]
    }
   ],
   "source": [
    "#正答率\n",
    "from sklearn import metrics\n",
    "print(\"acc:%f\"%metrics.accuracy_score(y1_test,svm1.predict(X1_test)))\n",
    "\n",
    "#再現率\n",
    "from sklearn import metrics\n",
    "print(\"rec:%f\"%metrics.recall_score(y1_test,svm1.predict(X1_test)))\n",
    "\n",
    "#適合率\n",
    "from sklearn import metrics\n",
    "print(\"pre:%f\"%metrics.precision_score(y1_test,svm1.predict(X1_test)))\n",
    "\n",
    "#F値\n",
    "from sklearn import metrics\n",
    "print(\"f1:%f\"%metrics.f1_score(y1_test,svm1.predict(X1_test)))"
   ]
  },
  {
   "cell_type": "raw",
   "metadata": {},
   "source": [
    "・混同行列(3クラス分類)\n",
    "    ⒈モデルの準備\n",
    "    ⒉混同行列の出力"
   ]
  },
  {
   "cell_type": "raw",
   "metadata": {},
   "source": [
    "⒈モデルの準備"
   ]
  },
  {
   "cell_type": "code",
   "execution_count": 12,
   "metadata": {},
   "outputs": [
    {
     "data": {
      "text/plain": [
       "SVC(C=1.0, cache_size=200, class_weight=None, coef0=0.0,\n",
       "  decision_function_shape='ovr', degree=3, gamma='auto', kernel='linear',\n",
       "  max_iter=-1, probability=False, random_state=None, shrinking=True,\n",
       "  tol=0.001, verbose=False)"
      ]
     },
     "execution_count": 12,
     "metadata": {},
     "output_type": "execute_result"
    }
   ],
   "source": [
    "#ライブラリの読み込み\n",
    "import numpy as np\n",
    "import pandas as pd\n",
    "import matplotlib.pyplot as plt\n",
    "%matplotlib inline\n",
    "#データセットの読み込み\n",
    "from sklearn.datasets import load_iris\n",
    "iris=load_iris()\n",
    "X2=iris.data[:,[0,1]]\n",
    "y2=iris.target\n",
    "#データの分割\n",
    "from sklearn.model_selection import train_test_split\n",
    "X2_train,X2_test,y2_train,y2_test=train_test_split(X2,y2,\n",
    "                                    test_size=0.3,random_state=0)\n",
    "#データの学習\n",
    "from sklearn.svm import SVC\n",
    "svm2=SVC(kernel=\"linear\",C=1.0)\n",
    "svm2.fit(X2_train,y2_train)"
   ]
  },
  {
   "cell_type": "raw",
   "metadata": {},
   "source": [
    "⒉混同行列の出力"
   ]
  },
  {
   "cell_type": "code",
   "execution_count": 15,
   "metadata": {},
   "outputs": [
    {
     "data": {
      "image/png": "[encoded data removed]",
      "text/plain": [
       "<matplotlib.figure.Figure at 0x1a129b5908>"
      ]
     },
     "metadata": {},
     "output_type": "display_data"
    }
   ],
   "source": [
    "#混同行列のarrayを作成\n",
    "from sklearn.metrics import confusion_matrix\n",
    "cm2=confusion_matrix(y2_test,svm2.predict(X2_test))\n",
    "# 混合行列をグラフでプロットする関数を定義\n",
    "def plot_cm(confmat):\n",
    "    fig, ax = plt.subplots(figsize=(5, 5))\n",
    "    ax.matshow(confmat, cmap=plt.cm.Blues, alpha=0.3)\n",
    "    for i in range(confmat.shape[0]):\n",
    "        for j in range(confmat.shape[1]):\n",
    "            ax.text(x=j, y=i, s=confmat[i, j], va='center', ha='center')\n",
    "    plt.title('predicted label')\n",
    "    plt.ylabel('true label')\n",
    "    plt.tight_layout() # ラベルが重ならないように自動調整\n",
    "    plt.show()\n",
    "#混同行列を出力\n",
    "plot_cm(cm2)"
   ]
  },
  {
   "cell_type": "raw",
   "metadata": {},
   "source": [
    "・ミクロ平均とマクロ平均\n",
    "    ミクロ平均・・・\n",
    "    クラスごとのサンプル数の偏りを調整しない場合の平均。\n",
    "    サンプル数の少ないクラスが軽視される。\n",
    "    \n",
    "    マクロ平均・・・\n",
    "    クラスごとのサンプル数の偏りを調整しない場合の平均。\n",
    "    全てのクラスを均等に扱える。"
   ]
  },
  {
   "cell_type": "code",
   "execution_count": 31,
   "metadata": {},
   "outputs": [
    {
     "data": {
      "text/plain": [
       "0.7826797385620915"
      ]
     },
     "execution_count": 31,
     "metadata": {},
     "output_type": "execute_result"
    }
   ],
   "source": [
    "#適合率のマクロ平均\n",
    "from sklearn import metrics\n",
    "metrics.precision_score(y2_test,svm2.predict(X2_test),average=\"macro\")"
   ]
  },
  {
   "cell_type": "code",
   "execution_count": null,
   "metadata": {
    "collapsed": true
   },
   "outputs": [],
   "source": []
  }
 ],
 "metadata": {
  "kernelspec": {
   "display_name": "Python 3",
   "language": "python",
   "name": "python3"
  },
  "language_info": {
   "codemirror_mode": {
    "name": "ipython",
    "version": 3
   },
   "file_extension": ".py",
   "mimetype": "text/x-python",
   "name": "python",
   "nbconvert_exporter": "python",
   "pygments_lexer": "ipython3",
   "version": "3.6.4"
  }
 },
 "nbformat": 4,
 "nbformat_minor": 2
}
