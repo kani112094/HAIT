{
 "cells": [
  {
   "cell_type": "markdown",
   "metadata": {},
   "source": [
    "# 単回帰分析\n",
    "(説明変数が1つ)"
   ]
  },
  {
   "cell_type": "raw",
   "metadata": {},
   "source": [
    "・実装(単回帰分析)\n",
    "    ⒈データの準備\n",
    "    ⒉データの観察\n",
    "    ⒊データの分割(テキストでは省略)\n",
    "    ⒋単回帰の線形モデルの学習\n",
    "    ⒌モデルの確認・評価\n",
    "    ⒍モデルの利用"
   ]
  },
  {
   "cell_type": "code",
   "execution_count": null,
   "metadata": {
    "collapsed": true
   },
   "outputs": [],
   "source": []
  },
  {
   "cell_type": "raw",
   "metadata": {},
   "source": [
    "⒈データの準備(Excelからデータを読み込む場合)\n",
    "    ⒈ExelデータをDataFrameとして読み込む\n",
    "    ⒉読み込んだデータをarrayに変換\n",
    "    　(学習はdfのままでも可能だが、プロットはarrayである必要がある場合がある)"
   ]
  },
  {
   "cell_type": "code",
   "execution_count": 2,
   "metadata": {},
   "outputs": [],
   "source": [
    "#データの準備\n",
    "\n",
    "#ライブラリの読み込み\n",
    "import numpy as np\n",
    "import pandas as pd\n",
    "import matplotlib.pyplot as plt\n",
    "%matplotlib inline\n",
    "\n",
    "#データの読み込み\n",
    "df=pd.read_excel(\"coffee.xlsx\")\n",
    "X=pd.DataFrame(df.iloc[:,[0]]).values\n",
    "y=pd.DataFrame(df.iloc[:,[1]]).values"
   ]
  },
  {
   "cell_type": "raw",
   "metadata": {},
   "source": [
    "⒉データの観察\n",
    "・散布図での観察\n",
    "・相関係数行列での観察"
   ]
  },
  {
   "cell_type": "code",
   "execution_count": 3,
   "metadata": {},
   "outputs": [
    {
     "data": {
      "image/png": "[encoded data removed]",
      "text/plain": [
       "<matplotlib.figure.Figure at 0x10998f4a8>"
      ]
     },
     "metadata": {},
     "output_type": "display_data"
    },
    {
     "data": {
      "text/html": [
       "<div>\n",
       "<style scoped>\n",
       "    .dataframe tbody tr th:only-of-type {\n",
       "        vertical-align: middle;\n",
       "    }\n",
       "\n",
       "    .dataframe tbody tr th {\n",
       "        vertical-align: top;\n",
       "    }\n",
       "\n",
       "    .dataframe thead th {\n",
       "        text-align: right;\n",
       "    }\n",
       "</style>\n",
       "<table border=\"1\" class=\"dataframe\">\n",
       "  <thead>\n",
       "    <tr style=\"text-align: right;\">\n",
       "      <th></th>\n",
       "      <th>MAX_TEMP</th>\n",
       "      <th>N_COFFEE</th>\n",
       "    </tr>\n",
       "  </thead>\n",
       "  <tbody>\n",
       "    <tr>\n",
       "      <th>MAX_TEMP</th>\n",
       "      <td>1.000000</td>\n",
       "      <td>0.889654</td>\n",
       "    </tr>\n",
       "    <tr>\n",
       "      <th>N_COFFEE</th>\n",
       "      <td>0.889654</td>\n",
       "      <td>1.000000</td>\n",
       "    </tr>\n",
       "  </tbody>\n",
       "</table>\n",
       "</div>"
      ],
      "text/plain": [
       "          MAX_TEMP  N_COFFEE\n",
       "MAX_TEMP  1.000000  0.889654\n",
       "N_COFFEE  0.889654  1.000000"
      ]
     },
     "execution_count": 3,
     "metadata": {},
     "output_type": "execute_result"
    }
   ],
   "source": [
    "#データの観察\n",
    "\n",
    "#散布図の出力\n",
    "plt.scatter(X,y)\n",
    "plt.xlabel(\"max temperature\")\n",
    "plt.ylabel(\"n coffee\")\n",
    "plt.show()\n",
    "\n",
    "#相関行列の出力\n",
    "df.corr()"
   ]
  },
  {
   "cell_type": "raw",
   "metadata": {},
   "source": [
    "⒊データの分割\n",
    "    ⒈ホールドアウト法によるデータの分割\n",
    "    ⒉線形回帰モデルのクラスの読み込み、インスタンスを生成\n",
    "    ⒊線形回帰モデルを学習"
   ]
  },
  {
   "cell_type": "code",
   "execution_count": 5,
   "metadata": {},
   "outputs": [],
   "source": [
    "#データの分割\n",
    "from sklearn.model_selection import train_test_split\n",
    "X_train,X_test,y_train,y_test=train_test_split(X,y,\n",
    "                                    test_size=0.3)"
   ]
  },
  {
   "cell_type": "raw",
   "metadata": {},
   "source": [
    "⒋データの学習"
   ]
  },
  {
   "cell_type": "code",
   "execution_count": 7,
   "metadata": {},
   "outputs": [
    {
     "data": {
      "text/plain": [
       "LinearRegression(copy_X=True, fit_intercept=True, n_jobs=1, normalize=False)"
      ]
     },
     "execution_count": 7,
     "metadata": {},
     "output_type": "execute_result"
    }
   ],
   "source": [
    "#データの学習\n",
    "from sklearn.linear_model import LinearRegression\n",
    "model_linear=LinearRegression()\n",
    "model_linear.fit(X_train,y_train)"
   ]
  },
  {
   "cell_type": "raw",
   "metadata": {},
   "source": [
    "⒌モデルの確認・評価\n",
    "    ・回帰係数の確認\n",
    "    ・散布図と回帰式を出力"
   ]
  },
  {
   "cell_type": "code",
   "execution_count": 8,
   "metadata": {},
   "outputs": [
    {
     "name": "stdout",
     "output_type": "stream",
     "text": [
      "coef: [[4.26780601]]\n",
      "intercept: [28.26911238]\n",
      "\n",
      "R^2 train: 0.7754170116447434\n",
      "R^2 test: 0.8177886245013108\n",
      "\n",
      "adjusted R^2 train: 0.7721143206395191\n",
      "adjusted R^2 test: 0.8112810753763576\n",
      "\n",
      "RMSE train: 15.512635613830861\n",
      "RMSE test: 15.14526384961476\n"
     ]
    },
    {
     "data": {
      "image/png": "[encoded data removed]",
      "text/plain": [
       "<matplotlib.figure.Figure at 0x10af6cac8>"
      ]
     },
     "metadata": {},
     "output_type": "display_data"
    }
   ],
   "source": [
    "#モデルの確認・評価\n",
    "\n",
    "#回帰係数の出力\n",
    "print(\"coef:\",model_linear.coef_)\n",
    "print(\"intercept:\",model_linear.intercept_)\n",
    "print(\"\")\n",
    "\n",
    "#精度(決定係数)を出力\n",
    "print(\"R^2 train:\",model_linear.score(X_train,y_train))\n",
    "print(\"R^2 test:\",model_linear.score(X_test,y_test))\n",
    "print(\"\")\n",
    "\n",
    "#精度(自由度調整済み決定係数)を出力\n",
    "def adjusted(score, n_sample, n_features):\n",
    "    adjusted_score = 1 - (1 - score) * ((n_sample - 1) / (n_sample - n_features - 1))\n",
    "    return adjusted_score\n",
    "print(\"adjusted R^2 train:\",\n",
    "      adjusted(model_linear.score(X_train,y_train),len(X_train),1))\n",
    "print(\"adjusted R^2 test:\",\n",
    "      adjusted(model_linear.score(X_test,y_test),len(X_test),1))\n",
    "print(\"\")\n",
    "\n",
    "#精度(RMSE)の出力\n",
    "from sklearn.metrics import mean_squared_error as mse\n",
    "print(\"RMSE train:\",mse(y_train,model_linear.predict(X_train))**(1/2))\n",
    "print(\"RMSE test:\",mse(y_test,model_linear.predict(X_test))**(1/2))\n",
    "\n",
    "#回帰直線を散布図にプロット\n",
    "plt.scatter(X,y,label=\"data\")\n",
    "x=np.arange(0,30,1)[:,np.newaxis]\n",
    "plt.plot(x,model_linear.predict(x),color=\"red\",label=\"model_linear\")\n",
    "plt.xlabel(\"max temperature\")\n",
    "plt.ylabel(\"n coffee\")\n",
    "plt.legend()\n",
    "plt.show()"
   ]
  },
  {
   "cell_type": "code",
   "execution_count": null,
   "metadata": {
    "collapsed": true
   },
   "outputs": [],
   "source": [
    "⒍モデルの利用"
   ]
  },
  {
   "cell_type": "code",
   "execution_count": 13,
   "metadata": {},
   "outputs": [
    {
     "data": {
      "text/plain": [
       "array([[105.08962062]])"
      ]
     },
     "execution_count": 13,
     "metadata": {},
     "output_type": "execute_result"
    }
   ],
   "source": [
    "#モデルを利用して予測を行う\n",
    "max_temperature=18\n",
    "model_linear.predict(18)"
   ]
  },
  {
   "cell_type": "code",
   "execution_count": null,
   "metadata": {
    "collapsed": true
   },
   "outputs": [],
   "source": []
  },
  {
   "cell_type": "code",
   "execution_count": null,
   "metadata": {
    "collapsed": true
   },
   "outputs": [],
   "source": []
  },
  {
   "cell_type": "code",
   "execution_count": null,
   "metadata": {
    "collapsed": true
   },
   "outputs": [],
   "source": []
  },
  {
   "cell_type": "code",
   "execution_count": null,
   "metadata": {
    "collapsed": true
   },
   "outputs": [],
   "source": []
  },
  {
   "cell_type": "code",
   "execution_count": null,
   "metadata": {
    "collapsed": true
   },
   "outputs": [],
   "source": []
  },
  {
   "cell_type": "code",
   "execution_count": null,
   "metadata": {
    "collapsed": true
   },
   "outputs": [],
   "source": []
  },
  {
   "cell_type": "code",
   "execution_count": null,
   "metadata": {
    "collapsed": true
   },
   "outputs": [],
   "source": []
  },
  {
   "cell_type": "code",
   "execution_count": null,
   "metadata": {
    "collapsed": true
   },
   "outputs": [],
   "source": []
  },
  {
   "cell_type": "code",
   "execution_count": null,
   "metadata": {
    "collapsed": true
   },
   "outputs": [],
   "source": []
  },
  {
   "cell_type": "code",
   "execution_count": null,
   "metadata": {
    "collapsed": true
   },
   "outputs": [],
   "source": []
  },
  {
   "cell_type": "code",
   "execution_count": null,
   "metadata": {
    "collapsed": true
   },
   "outputs": [],
   "source": []
  },
  {
   "cell_type": "code",
   "execution_count": null,
   "metadata": {
    "collapsed": true
   },
   "outputs": [],
   "source": []
  },
  {
   "cell_type": "code",
   "execution_count": null,
   "metadata": {
    "collapsed": true
   },
   "outputs": [],
   "source": []
  },
  {
   "cell_type": "code",
   "execution_count": null,
   "metadata": {
    "collapsed": true
   },
   "outputs": [],
   "source": []
  }
 ],
 "metadata": {
  "kernelspec": {
   "display_name": "Python 3",
   "language": "python",
   "name": "python3"
  },
  "language_info": {
   "codemirror_mode": {
    "name": "ipython",
    "version": 3
   },
   "file_extension": ".py",
   "mimetype": "text/x-python",
   "name": "python",
   "nbconvert_exporter": "python",
   "pygments_lexer": "ipython3",
   "version": "3.6.4"
  }
 },
 "nbformat": 4,
 "nbformat_minor": 2
}
