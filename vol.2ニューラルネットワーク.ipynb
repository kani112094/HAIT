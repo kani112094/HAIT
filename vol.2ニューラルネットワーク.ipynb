{
 "cells": [
  {
   "cell_type": "raw",
   "metadata": {},
   "source": [
    "目次"
   ]
  },
  {
   "cell_type": "raw",
   "metadata": {},
   "source": [
    "・ニューラルネットワーク概要\n",
    "    多数のパーセプトロンをつなぎ合わせて作られており、\n",
    "    つなぎあわされたパーセプトロンは層をなし、これが4層以上になったものを\n",
    "    ディープニューラルネットワーク(DNN)という。\n",
    "    このDNNを学習させることを深層学習という。\n",
    "    \n",
    "・画像データの確認\n",
    "    白黒画像は、各位置ごとの明るさを指定すれば良いので、行列の形式で表現される。\n",
    "    カラー画像は、各位置ごとの赤青緑の明るさを指定すれば良いので、\n",
    "    テンソルの形式で表現される。\n",
    "    \n",
    "・活性化関数(伝達関数)\n",
    "    MLPクラスの__call__関数に含まれるF.relu()がその例。\n",
    "    決定境界を曲線にするという役割を担っている。\n",
    "    \n",
    "・Classifierクラス\n",
    "    定義したニューラルネットを分類機として簡単に利用するためのクラス。\n",
    "    予測や学習の工程を1行で片付けてくれるので、コード量が格段に少なくなる。\n",
    "    \n",
    "・CuPy\n",
    "    GPUを使用する場合、行列計算にNumPyの代わりにCuPyというライブラリを\n",
    "    利用する。Numpyと同じ要領で使用でき、NVIDIA製のGPU並列処理に対応している\n",
    "    という強みを持つ。\n",
    "    \n",
    "・Optimizers\n",
    "    多数の勾配降下法のアルゴリズムがまとめられたモジュール。\n",
    "    今回はこの中からSGDを利用する。\n",
    "    \n",
    "・batchsize\n",
    "    ミニバッチという教師データのかたまりに含めるサンプル数のこと。\n",
    "    \n",
    "    ①バッチ学習\n",
    "    全てのサンプルを一度に用いて勾配を求める手法(今までの学習はこれを利用)。\n",
    "    計算に時間がかかりすぎたり、メモリにデータが乗り切らないなどの問題が起こる。\n",
    "    \n",
    "    ②オンライン学習\n",
    "    一つのサンプルのみを用いて勾配を求める手法。\n",
    "    会が適切な値に収束しにくいという欠点がある。\n",
    "    \n",
    "    ③ミニバッチ学習\n",
    "    データをいくつかのかたまりに小分けして、そのかたまりごとに勾配を求める手法。\n",
    "    バッチ学習とオンライン学習の折衷案になっている。\n",
    "    \n",
    "・n_epoch数\n",
    "    学習の繰り返し回数。深層学習では同じデータを用いて何度も学習を繰り返し、\n",
    "    より強くモデルにtrainデータの刷り込みが行われます。\n",
    "    \n",
    "・順伝播計算\n",
    "    予測を行う計算処理のこと。\n",
    "    パーセプトロンと同様に、入力層から来た値に重みをかけた値の合計値を計算。\n",
    "    その後活性化関数を通し、隠れ層の値を計算。それを次々に行い、\n",
    "    最終的に出力層に入って来た数値が一番大きかったクラスを予測結果とする。\n",
    "    \n",
    "・逆伝播計算\n",
    "    学習を行うための計算処理のこと。\n",
    "    出力層に近い層から順に、パラメータの修正幅を決めていきます。\n",
    "    逆伝播計算を元に学習を行う方法を誤差伝播法という。\n",
    "    \n",
    "    ①softmax関数\n",
    "    出力層への入力を確率に変換する活性化関数のこと。\n",
    "    こうすることで正解ラベルとの比較が可能となる。\n",
    "        pi=exp(Oi)/Σexp(Oi)\n",
    "    \n",
    "    ②cross_entropy誤差関数\n",
    "    ニューラルネット特有の誤差関数。\n",
    "    ロジスティック回帰の対数尤度関数と同じような仕組みになっている。\n",
    "    softmax関数と合わせてsoftmax_cross_entropy誤差関数と呼ばれている。\n",
    "        C=−(1/n)∑(ylogpi+(1−y)log(1−pi))\n",
    "    \n",
    "    ③誤差の微分を求める\n",
    "    パラメータ調整のために、soft_cross_entropy誤差関数を微分する。\n",
    "    以下に勾配降下法の重みパラメータの更新式を再掲する。\n",
    "        Δwi=−η(∂J(w)/∂wi)\n",
    "    この時、「出力層に直結した層のパラメータに関しては、\n",
    "    誤差を直接微分できるが、その前のパラメータに関しては誤差が微分できない」\n",
    "    という問題が生じる。\n",
    "    \n",
    "    ④連鎖律\n",
    "    合成関数の計算規則。\n",
    "        z=f(y),y=g(x)\n",
    "        dz/dx=(dz/dy)×(dy/dx)\n",
    "    ニューラルネットワークは数式上大規模な合成関数とみなせるので、\n",
    "    この連鎖律を使えば、全てのパラメータに関して誤差関数が微分できる。\n",
    "    \n",
    "    ⑤確率的勾配降下法\n",
    "    学習データをサンプリングして行う勾配降下法のこと。\n",
    "    \n",
    "・Trainerによる学習ループ\n",
    "    TrainerはChainerのクラスの一つで、学習の手続きをまとめたクラス。\n",
    "    \n",
    "・Updaterによる学習規則の定義\n",
    "    UpdaterChainerのクラスの一つで、パラメータの更新を管理・実行するクラス。\n",
    "    CPUを利用する場合は、StandardUpdaterを利用する。\n",
    "    \n",
    "・extensionsによる機能拡張\n",
    "    trainerはextensionsモジュール内のクラスを利用することで、\n",
    "    その機能を拡張することができる。以下に示すクラスを利用する。"
   ]
  },
  {
   "cell_type": "code",
   "execution_count": 1,
   "metadata": {
    "scrolled": true
   },
   "outputs": [
    {
     "name": "stdout",
     "output_type": "stream",
     "text": [
      "Requirement already up-to-date: chainer==2.0 in /Users/KANI112094/.pyenv/versions/anaconda3-5.0.1/envs/py36/lib/python3.6/site-packages\n",
      "Requirement already up-to-date: protobuf>=2.6.0 in /Users/KANI112094/.pyenv/versions/anaconda3-5.0.1/envs/py36/lib/python3.6/site-packages (from chainer==2.0)\n",
      "Requirement already up-to-date: nose in /Users/KANI112094/.pyenv/versions/anaconda3-5.0.1/envs/py36/lib/python3.6/site-packages (from chainer==2.0)\n",
      "Requirement already up-to-date: filelock in /Users/KANI112094/.pyenv/versions/anaconda3-5.0.1/envs/py36/lib/python3.6/site-packages (from chainer==2.0)\n",
      "Requirement already up-to-date: six>=1.9.0 in /Users/KANI112094/.pyenv/versions/anaconda3-5.0.1/envs/py36/lib/python3.6/site-packages (from chainer==2.0)\n",
      "Collecting numpy>=1.9.0 (from chainer==2.0)\n",
      "  Downloading numpy-1.14.2-cp36-cp36m-macosx_10_6_intel.macosx_10_9_intel.macosx_10_9_x86_64.macosx_10_10_intel.macosx_10_10_x86_64.whl (4.7MB)\n",
      "\u001b[K    100% |████████████████████████████████| 4.7MB 214kB/s ta 0:00:01    27% |████████▉                       | 1.3MB 1.9MB/s eta 0:00:02\n",
      "\u001b[?25hRequirement already up-to-date: setuptools in /Users/KANI112094/.pyenv/versions/anaconda3-5.0.1/envs/py36/lib/python3.6/site-packages (from protobuf>=2.6.0->chainer==2.0)\n",
      "Installing collected packages: numpy\n",
      "  Found existing installation: numpy 1.14.1\n",
      "    Uninstalling numpy-1.14.1:\n",
      "      Successfully uninstalled numpy-1.14.1\n",
      "Successfully installed numpy-1.14.2\n"
     ]
    }
   ],
   "source": [
    "! pip install -U chainer==2.0"
   ]
  },
  {
   "cell_type": "code",
   "execution_count": 2,
   "metadata": {},
   "outputs": [
    {
     "name": "stderr",
     "output_type": "stream",
     "text": [
      "/Users/KANI112094/.pyenv/versions/anaconda3-5.0.1/envs/py36/lib/python3.6/site-packages/h5py/__init__.py:36: FutureWarning: Conversion of the second argument of issubdtype from `float` to `np.floating` is deprecated. In future, it will be treated as `np.float64 == np.dtype(float).type`.\n",
      "  from ._conv import register_converters as _register_converters\n"
     ]
    }
   ],
   "source": [
    "#ライブラリの読み込み\n",
    "import numpy as np\n",
    "import matplotlib.pyplot as plt\n",
    "%matplotlib inline\n",
    "import chainer\n",
    "import chainer.functions as F\n",
    "import chainer.links as L\n",
    "from chainer import computational_graph\n",
    "from chainer import serializers"
   ]
  },
  {
   "cell_type": "code",
   "execution_count": 3,
   "metadata": {},
   "outputs": [
    {
     "name": "stdout",
     "output_type": "stream",
     "text": [
      "X:(70000, 784)\n",
      "y:(70000,)\n"
     ]
    }
   ],
   "source": [
    "#データの読み込み\n",
    "from sklearn.datasets import fetch_mldata\n",
    "mnist=fetch_mldata(\"MNIST original\",data_home=\".\")\n",
    "X=mnist.data\n",
    "y=mnist.target\n",
    "#データの型を確認\n",
    "print(\"X:{}\".format(X.shape))\n",
    "print(\"y:{}\".format(y.shape))"
   ]
  },
  {
   "cell_type": "code",
   "execution_count": 4,
   "metadata": {},
   "outputs": [],
   "source": [
    "#Chainerが処理できる数値型に変換\n",
    "X=X.astype(np.float32)\n",
    "y=y.astype(np.int32)\n",
    "#画像の正規化\n",
    "X/=255."
   ]
  },
  {
   "cell_type": "code",
   "execution_count": 5,
   "metadata": {},
   "outputs": [
    {
     "data": {
      "image/png": "[encoded data removed]",
      "text/plain": [
       "<matplotlib.figure.Figure at 0x1a12da4f98>"
      ]
     },
     "metadata": {},
     "output_type": "display_data"
    },
    {
     "name": "stdout",
     "output_type": "stream",
     "text": [
      "y:0\n"
     ]
    }
   ],
   "source": [
    "#データを画像として出力する関数を定義\n",
    "def draw_digit(data):\n",
    "    \"\"\"数値の行列データを画像表示\"\"\"\n",
    "    plt.figure(figsize=(3, 3))\n",
    "    X, Y = np.meshgrid(range(28),range(28))\n",
    "    Z = data.reshape(28, 28)\n",
    "    Z = Z[::-1,:]\n",
    "    plt.pcolor(X, Y, Z)\n",
    "    plt.tick_params(labelbottom=\"off\")\n",
    "    plt.tick_params(labelleft=\"off\")\n",
    "    plt.gray()\n",
    "    plt.show()\n",
    "#データを画像として出力\n",
    "draw_digit(X[0])\n",
    "#正解ラベルを確認\n",
    "print(\"y:%d\"%y[0])"
   ]
  },
  {
   "cell_type": "code",
   "execution_count": 6,
   "metadata": {},
   "outputs": [],
   "source": [
    "#データの分割\n",
    "from sklearn.model_selection import train_test_split\n",
    "X_train,X_test,y_train,y_test=train_test_split(X,y,\n",
    "                                test_size=0.3,random_state=0)"
   ]
  },
  {
   "cell_type": "code",
   "execution_count": 7,
   "metadata": {},
   "outputs": [],
   "source": [
    "#ニューラルネットワークの定義\n",
    "\n",
    "#chainerのChainクラスを継承\n",
    "class MLP(chainer.Chain):\n",
    "    #ニューラルネットワークの構造を定義\n",
    "    def __init__(self):\n",
    "        super(MLP,self).__init__()\n",
    "        with self.init_scope():\n",
    "            self.l1=L.Linear(784,900)\n",
    "            self.l2=L.Linear(900,1000)\n",
    "            self.l3=L.Linear(1000,500)\n",
    "            self.l4=L.Linear(500,10)\n",
    "        \n",
    "    #ニューラルネットワークの計算規則を定義\n",
    "    def __call__(self,X):\n",
    "        h1=F.relu(self.l1(X))\n",
    "        h2=F.relu(self.l2(h1))\n",
    "        h3=F.relu(self.l3(h2))\n",
    "        return self.l4(h3)"
   ]
  },
  {
   "cell_type": "code",
   "execution_count": 8,
   "metadata": {},
   "outputs": [],
   "source": [
    "#分類機のインスタンスの生成\n",
    "model=L.Classifier(MLP())\n",
    "#GPUの使用の有無を指定(今回はCPUを想定しているため-1)\n",
    "gpu=-1\n",
    "#CuPyの使用の有無を指定\n",
    "if gpu>0:\n",
    "    #GPUを使用する場合はCuPyを使用\n",
    "    xp=cuda.cupy\n",
    "    cupy.cuda.Device(gpu).use()\n",
    "    model.to_gpu()\n",
    "else:\n",
    "    #CPUを使用する場合はNumPyを使用\n",
    "    xp=np"
   ]
  },
  {
   "cell_type": "code",
   "execution_count": 9,
   "metadata": {},
   "outputs": [],
   "source": [
    "# # GPUを使用する場合は以下のコメントアウトを外して、データをCuPyの配列に変換\n",
    "\n",
    "# # データをxpの32bit小数の型に変換\n",
    "# X_train, X_test, y_train, y_test = train_test_split(X, y, test_size=0.3, random_state=0)\n",
    "# # 数値をChainerが扱える型に変換\n",
    "# X = X.astype(xp.float32)\n",
    "# y = y.astype(xp.int32)"
   ]
  },
  {
   "cell_type": "code",
   "execution_count": 10,
   "metadata": {},
   "outputs": [],
   "source": [
    "#Optimizerの定義\n",
    "optimizer=chainer.optimizers.SGD()\n",
    "optimizer.setup(model)"
   ]
  },
  {
   "cell_type": "code",
   "execution_count": 11,
   "metadata": {},
   "outputs": [],
   "source": [
    "#ミニバッチに含まれるサンプル数を指定\n",
    "batch_size=100\n",
    "#epoch数を指定\n",
    "n_epoch=20"
   ]
  },
  {
   "cell_type": "code",
   "execution_count": 12,
   "metadata": {},
   "outputs": [],
   "source": [
    "#モジュールの読み込み\n",
    "from chainer.datasets import tuple_dataset\n",
    "from chainer import iterators,training\n",
    "from chainer.training import extensions"
   ]
  },
  {
   "cell_type": "code",
   "execution_count": 13,
   "metadata": {},
   "outputs": [],
   "source": [
    "#trainデータをTupleDataset型に変換しまとめ,trainを生成する\n",
    "train=tuple_dataset.TupleDataset(X_train,y_train)\n",
    "#trainとbatch_sizeを引き渡して、train_iterを生成する\n",
    "train_iter=iterators.SerialIterator(train,batch_size=batch_size,\n",
    "                                    shuffle=True)\n",
    "#train_iterとoptimizerを引き渡して、updaterを生成する\n",
    "updater=training.StandardUpdater(train_iter,optimizer,device=gpu)\n",
    "#updaterとn_epochと新たなoutを引き渡し、trainerを生成する\n",
    "trainer=training.Trainer(updater,(n_epoch,\"epoch\"),out=\"result\")"
   ]
  },
  {
   "cell_type": "code",
   "execution_count": 14,
   "metadata": {},
   "outputs": [],
   "source": [
    "#testを生成する\n",
    "test=tuple_dataset.TupleDataset(X_test,y_test)\n",
    "#test_iterを生成\n",
    "test_iter=iterators.SerialIterator(test,batch_size=batch_size,\n",
    "                                  shuffle=False,repeat=False)\n",
    "#test_iterとmodelをEvaluatorに引き渡し、Evaluatorをtrainerに登録しておく\n",
    "trainer.extend(extensions.Evaluator(test_iter,model))\n",
    "#学習の状況を記録できるログファイルを作成する機能を追加\n",
    "trainer.extend(extensions.LogReport())\n",
    "#学習状況を逐一出力する機能を追加\n",
    "#epoch:今何epoch目なのか？\n",
    "#main/loss:訓練誤差(softmax_cross_entropyの出力)\n",
    "#main/accuracy:訓練精度(正答率)\n",
    "#validation/main/loss:検証誤差\n",
    "#validation/main/accuracy:検証精度\n",
    "trainer.extend(extensions.PrintReport([\"epoch\",\n",
    "                                       \"main/loss\",\n",
    "                                       \"main/accuracy\",\n",
    "                                       \"validation/main/loss\",\n",
    "                                    \"validation/main/accuracy\"]))\n",
    "#trainとtestの精度のグラフを出力\n",
    "trainer.extend(extensions.PlotReport([\"main/accuracy\",\n",
    "                                      \"validation/main/accuracy\"],\n",
    "                                    \"epoch\",\n",
    "                                    file_name=\"accuracy.png\"))\n",
    "#trainとtestの損失関数のグラフを出力\n",
    "trainer.extend(extensions.PlotReport([\"main/loss\",\n",
    "                                     \"validation/main/loss\"],\n",
    "                                    \"epoch\",\n",
    "                                    file_name=\"loss.png\"))\n",
    "##epochごとの進捗状況をプログレスバーで報告する機能を追加\n",
    "#trainer.extend(extensions.ProfressBar())"
   ]
  },
  {
   "cell_type": "code",
   "execution_count": 15,
   "metadata": {
    "scrolled": true
   },
   "outputs": [
    {
     "name": "stdout",
     "output_type": "stream",
     "text": [
      "epoch       main/loss   main/accuracy  validation/main/loss  validation/main/accuracy\n",
      "\u001b[J1           1.37175     0.702224       0.588395              0.861143                  \n",
      "\u001b[J2           0.451529    0.881408       0.374968              0.896238                  \n",
      "\u001b[J3           0.341031    0.903327       0.320398              0.90819                   \n",
      "\u001b[J4           0.296791    0.915959       0.287877              0.915524                  \n",
      "\u001b[J5           0.267958    0.923918       0.264504              0.923048                  \n",
      "\u001b[J6           0.245995    0.93           0.247555              0.927667                  \n",
      "\u001b[J7           0.22749     0.934857       0.231136              0.933333                  \n",
      "\u001b[J8           0.211508    0.939837       0.216467              0.936762                  \n",
      "\u001b[J9           0.197539    0.944327       0.205839              0.939714                  \n",
      "\u001b[J10          0.185068    0.94751        0.195019              0.942238                  \n",
      "\u001b[J11          0.174009    0.950898       0.187466              0.94519                   \n",
      "\u001b[J12          0.163564    0.953755       0.180748              0.947429                  \n",
      "\u001b[J13          0.15418     0.956245       0.169148              0.950143                  \n",
      "\u001b[J14          0.145319    0.958673       0.16581               0.952                     \n",
      "\u001b[J15          0.137652    0.960918       0.157723              0.95381                   \n",
      "\u001b[J16          0.130596    0.962735       0.150773              0.95519                   \n",
      "\u001b[J17          0.123445    0.965082       0.14508               0.957762                  \n",
      "\u001b[J18          0.117615    0.966816       0.14206               0.958619                  \n",
      "\u001b[J19          0.111774    0.968347       0.136937              0.959238                  \n",
      "\u001b[J20          0.106216    0.969816       0.131627              0.961286                  \n"
     ]
    }
   ],
   "source": [
    "#学習の実行\n",
    "trainer.run()"
   ]
  },
  {
   "cell_type": "code",
   "execution_count": null,
   "metadata": {},
   "outputs": [],
   "source": []
  },
  {
   "cell_type": "code",
   "execution_count": 17,
   "metadata": {},
   "outputs": [
    {
     "data": {
      "image/png": "[encoded data removed]",
      "text/plain": [
       "<matplotlib.figure.Figure at 0x1a20424fd0>"
      ]
     },
     "metadata": {},
     "output_type": "display_data"
    },
    {
     "data": {
      "image/png": "[encoded data removed]",
      "text/plain": [
       "<matplotlib.figure.Figure at 0x1a20424ef0>"
      ]
     },
     "metadata": {},
     "output_type": "display_data"
    }
   ],
   "source": [
    "# ReportPlotによるグラフを出力する関数を定義\n",
    "from pylab import box\n",
    "def show_graph(src):\n",
    "    img =  plt.imread(src)\n",
    "    xpixels,ypixels = img.shape[0],img.shape[1]\n",
    "    dpi = 100\n",
    "    margin = 0.01\n",
    "    figsize = (1 + margin) * ypixels / dpi, (1 + margin) * xpixels / dpi\n",
    "\n",
    "    fig = plt.figure(figsize=figsize, dpi=dpi)\n",
    "    ax = fig.add_axes([margin, margin, 1 - 2*margin, 1 - 2*margin])\n",
    "    ax.tick_params(labelbottom=\"off\",bottom=\"off\")\n",
    "    ax.tick_params(labelleft=\"off\",left=\"off\")\n",
    "\n",
    "    ax.imshow(img, interpolation='none')\n",
    "    box(\"off\")\n",
    "    plt.show()\n",
    "#誤差と精度のグラフを描画\n",
    "show_graph('result/loss.png')\n",
    "show_graph('result/accuracy.png')"
   ]
  },
  {
   "cell_type": "code",
   "execution_count": 1,
   "metadata": {},
   "outputs": [],
   "source": [
    "# モデルを利用して予測をする関数を定義\n",
    "def predict(model, X):\n",
    "    # データ数が1の場合は、バッチサイズ分の次元を追加\n",
    "    if len(X.shape) == 1:  \n",
    "        pred = model.predictor(X[None, ...]).data.argmax()\n",
    "    # データ数が2以上の場合はそのまま\n",
    "    else:  \n",
    "        pred = model.predictor(X).data.argmax(axis=1)\n",
    "    return pred"
   ]
  },
  {
   "cell_type": "code",
   "execution_count": 19,
   "metadata": {},
   "outputs": [
    {
     "data": {
      "image/png": "[encoded data removed]",
      "text/plain": [
       "<matplotlib.figure.Figure at 0x1a204b3cc0>"
      ]
     },
     "metadata": {},
     "output_type": "display_data"
    }
   ],
   "source": [
    "#indexを指定し任意の画像を出力\n",
    "index=123\n",
    "draw_digit(X_test[index])"
   ]
  },
  {
   "cell_type": "code",
   "execution_count": 20,
   "metadata": {},
   "outputs": [
    {
     "name": "stdout",
     "output_type": "stream",
     "text": [
      "predict: 7\n",
      "answer: 2\n",
      "不正解です。\n"
     ]
    }
   ],
   "source": [
    "#予測を行い答え合わせをする\n",
    "pred=predict(model,X_test[index])\n",
    "ans=y_test[index]\n",
    "\n",
    "print(\"predict:\",pred)\n",
    "print(\"answer:\",ans)\n",
    "\n",
    "if pred==ans:\n",
    "    print(\"正解です。\")\n",
    "else:\n",
    "    print(\"不正解です。\")"
   ]
  },
  {
   "cell_type": "code",
   "execution_count": 21,
   "metadata": {},
   "outputs": [
    {
     "data": {
      "text/plain": [
       "array([[  21,    0,    0,    1,  249,    0,    4, 1727,    5,    1],\n",
       "       [   0,    0,    0,   77,  351,   36,  123, 1745,   10,   70],\n",
       "       [  10,    0,    0,    5,  455,    5,    7, 1539,   18,    6],\n",
       "       [  10,    2,    1,    7, 1134,    1,   11,  846,    1,   69],\n",
       "       [  10,    0,    1,   20,  299,    1,   73, 1648,    3,   23],\n",
       "       [  14,    2,    0,    2,  739,    9,   34, 1105,    2,   13],\n",
       "       [   8,    1,    1,  146,  630,    8,   24, 1248,    5,    7],\n",
       "       [  12,    2,    0,    0,   60,    1,  105, 1930,    0,   81],\n",
       "       [   8,    0,    0,   10,  447,    3,   28, 1565,    1,   31],\n",
       "       [  19,    1,    0,   17,  189,    4,  185, 1631,    0,   47]])"
      ]
     },
     "execution_count": 21,
     "metadata": {},
     "output_type": "execute_result"
    }
   ],
   "source": [
    "#間違いの傾向を評価するために、混同行列を出力\n",
    "from sklearn.metrics import confusion_matrix as cm\n",
    "result=predict(model,X_test)\n",
    "cm(y_test,result)"
   ]
  },
  {
   "cell_type": "code",
   "execution_count": 22,
   "metadata": {},
   "outputs": [
    {
     "data": {
      "image/png": "[encoded data removed]",
      "text/plain": [
       "<matplotlib.figure.Figure at 0x1a30255b00>"
      ]
     },
     "metadata": {},
     "output_type": "display_data"
    }
   ],
   "source": [
    "# 混同行列をグラフで出力する関数を定義\n",
    "def plot_cm(y_true, y_pred):\n",
    "    confmat = cm(y_true, y_pred)\n",
    "    fig, ax = plt.subplots(figsize=(10, 10))\n",
    "    ax.matshow(confmat, cmap=plt.cm.Blues, alpha=0.3)\n",
    "    for i in range(confmat.shape[0]):\n",
    "        for j in range(confmat.shape[1]):\n",
    "            ax.text(x=j, y=i, s=confmat[i, j], va='center', ha='center')\n",
    "    plt.xticks(xp.arange(0, 10, 1)) # x軸の目盛りを指定\n",
    "    plt.yticks(xp.arange(0, 10, 1)) # y軸の目盛りを指定\n",
    "    plt.xlabel('predicted label')\n",
    "    plt.ylabel('true label')\n",
    "    plt.show()\n",
    "#混同行列をグラフで出力\n",
    "plot_cm(y_test,result)"
   ]
  },
  {
   "cell_type": "code",
   "execution_count": 23,
   "metadata": {},
   "outputs": [
    {
     "name": "stdout",
     "output_type": "stream",
     "text": [
      "accuracy:0.111\n",
      "recall:0.108\n",
      "precision:0.074\n",
      "f1_score:0.041\n"
     ]
    }
   ],
   "source": [
    "#性能指標を一通り出力\n",
    "from sklearn import metrics\n",
    "print(\"accuracy:%.3f\"%metrics.accuracy_score(y_test,result))\n",
    "print(\"recall:%.3f\"%metrics.recall_score(y_test,result,\n",
    "                                         average=\"macro\"))\n",
    "print(\"precision:%.3f\"%metrics.precision_score(y_test,result,\n",
    "                                               average=\"macro\"))\n",
    "print(\"f1_score:%.3f\"%metrics.f1_score(y_test,result,\n",
    "                                       average=\"macro\"))"
   ]
  },
  {
   "cell_type": "code",
   "execution_count": 24,
   "metadata": {},
   "outputs": [
    {
     "data": {
      "image/png": "[encoded data removed]",
      "text/plain": [
       "<matplotlib.figure.Figure at 0x1a30266c18>"
      ]
     },
     "metadata": {},
     "output_type": "display_data"
    },
    {
     "name": "stdout",
     "output_type": "stream",
     "text": [
      "予測: 7\n",
      "正解: 9\n"
     ]
    },
    {
     "data": {
      "image/png": "[encoded data removed]",
      "text/plain": [
       "<matplotlib.figure.Figure at 0x1a2f529668>"
      ]
     },
     "metadata": {},
     "output_type": "display_data"
    },
    {
     "name": "stdout",
     "output_type": "stream",
     "text": [
      "予測: 7\n",
      "正解: 9\n"
     ]
    },
    {
     "data": {
      "image/png": "[encoded data removed]",
      "text/plain": [
       "<matplotlib.figure.Figure at 0x1a2fe1deb8>"
      ]
     },
     "metadata": {},
     "output_type": "display_data"
    },
    {
     "name": "stdout",
     "output_type": "stream",
     "text": [
      "予測: 7\n",
      "正解: 9\n"
     ]
    }
   ],
   "source": [
    "#正解が4か9のサンプルで予想が外れたものを表示(3つだけ)\n",
    "count=0\n",
    "for i in range(len(y_test)):\n",
    "    ans=y_test[i]\n",
    "    pred=predict(model,X_test[i])\n",
    "    \n",
    "    #asnが4でも9でもなかったら、for文の先頭に戻る(次の繰り返しに入る)\n",
    "    if ans!=4 and ans!=9:\n",
    "        continue\n",
    "    \n",
    "    if ans!=pred:\n",
    "        count+=1\n",
    "        draw_digit(X_test[i])\n",
    "        print(\"予測:\",pred)\n",
    "        print(\"正解:\",ans)\n",
    "    \n",
    "    #countが3になったら繰り返しを終了\n",
    "    if count==3:\n",
    "        break"
   ]
  },
  {
   "cell_type": "code",
   "execution_count": 15,
   "metadata": {},
   "outputs": [],
   "source": [
    "#モデルの保存\n",
    "#(ファイル名,保存したいモデルの変数名)\n",
    "serializers.save_npz(\"mnist.npz\",model)\n",
    "#モデルの読み込み\n",
    "#(ファイル名,読み込みたいモデルに与える変数名)\n",
    "#時間のかかるrunをしなくても\n",
    "serializers.load_npz('mnist.npz', model)"
   ]
  },
  {
   "cell_type": "code",
   "execution_count": 16,
   "metadata": {},
   "outputs": [
    {
     "data": {
      "text/plain": [
       "<chainer.links.model.classifier.Classifier at 0x1a2049a390>"
      ]
     },
     "execution_count": 16,
     "metadata": {},
     "output_type": "execute_result"
    }
   ],
   "source": [
    "model"
   ]
  },
  {
   "cell_type": "code",
   "execution_count": null,
   "metadata": {},
   "outputs": [],
   "source": []
  }
 ],
 "metadata": {
  "kernelspec": {
   "display_name": "Python 3",
   "language": "python",
   "name": "python3"
  },
  "language_info": {
   "codemirror_mode": {
    "name": "ipython",
    "version": 3
   },
   "file_extension": ".py",
   "mimetype": "text/x-python",
   "name": "python",
   "nbconvert_exporter": "python",
   "pygments_lexer": "ipython3",
   "version": "3.6.4"
  }
 },
 "nbformat": 4,
 "nbformat_minor": 2
}
