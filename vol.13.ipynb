{
 "cells": [
  {
   "cell_type": "raw",
   "metadata": {},
   "source": [
    "目次"
   ]
  },
  {
   "cell_type": "raw",
   "metadata": {},
   "source": [
    "・クラスタリング概要\n",
    "    似ているサンプル同士をクラスタにまとめる教師なし学習の手法。\n",
    "    データ構造にアタリをつけるために利用される。PCAと一緒に使われることがある。\n",
    "    \n",
    "・クラスタリングの4つの焦点\n",
    "    ⒈何を分けるのか？\n",
    "    ⒉階層型か？非階層型か？\n",
    "    ⒊類似度を何で定義するか？\n",
    "    ⒋どのアルゴリズムを使うか？\n",
    "    \n",
    "・k-means法のアルゴリズム\n",
    "    ⒈クラスタの数k(n_cluster)を指定する\n",
    "    ⒉クラスタの中心セントロイドの初期値として、\n",
    "    　ランダムに選んだk個のサンプルの位置を採用する\n",
    "    ⒊各サンプルが所属するクラスタを、それに一番近いセントロイドと同じだとする\n",
    "    ⒋所属するサンプルの重心を各クラスタごとにとり、\n",
    "    　それを各クラスタの新たなセントロイドとする\n",
    "    ⒌終了条件に達するまでに、3と4を繰り返す\n",
    "    \n",
    "    目的関数\n",
    "    k-means法の目的関数は、以下の式で表される\n",
    "        SSE=∑∑w(i,j)||x(i)−μ(j)||2^2\n",
    " \n",
    "    終了条件\n",
    "    ・クラスタリングが収束して、3と4を行なってもサンプルの遷移がなくなる\n",
    "    ・SSEが許容範囲内にまとまる\n",
    "    ・3と4の繰り返しが指定の回数行われる\n",
    "    \n",
    "・k-means法の弱点とその対策\n",
    "    ・超球状でないクラスタや、サンプル数のこと寝るクラスタの検出が苦手\n",
    "    　 対策:なし\n",
    "    ・クラスタ数kを自分で決めなければならない\n",
    "    　 対策:エルボー法,シルエット分析\n",
    "    ・セントロイドの初期値次第で、最終的なクラスタが大きく変わる\n",
    "    　 対策1:k-mean法をn_initの値を変えて繰り返し行い,\n",
    "      　　　 SSEが一番小さくなったものを採用する\n",
    "       対策2:k-means++法を利用する(初期値の取り方に工夫)\n",
    "       \n",
    "・凝集度と乖離度とシルエット係数\n",
    "    凝集度・・・各サンプルの同じクラスタ内の他のサンプルとの平均距離\n",
    "    乖離度・・・各サンプルの一番近い他のクラスタ内のサンプルとの平均距離\n",
    "    シルエット係数・・・(乖離度-凝集度)/(両者のうち大きい方)\n",
    "    　　　　　　　　　　この値が大きいほどクラスタリングが上手くいっている\n",
    "\n",
    "・シルエット図のチェック項目\n",
    "    ・クラスタ内のサンプル数は均等になっているか？\n",
    "    ・シルエット係数が小さすぎるサンプルはないか？"
   ]
  },
  {
   "cell_type": "raw",
   "metadata": {},
   "source": []
  },
  {
   "cell_type": "raw",
   "metadata": {},
   "source": [
    "・実装(通常のクラスタリング)\n",
    "    ⒈ライブラリとデータの読み込み\n",
    "    ⒉データの標準化\n",
    "    ⒊主成分分析の実行\n",
    "    ⒋k-means法の実行\n",
    "    ⒌クラスタリング結果のプロット"
   ]
  },
  {
   "cell_type": "raw",
   "metadata": {},
   "source": [
    "⒈ライブラリとデータの読み込み"
   ]
  },
  {
   "cell_type": "code",
   "execution_count": 1,
   "metadata": {},
   "outputs": [],
   "source": [
    "#ライブラリの読み込み\n",
    "import numpy as np\n",
    "import pandas as pd\n",
    "import matplotlib.pyplot as plt\n",
    "%matplotlib inline\n",
    "\n",
    "#データの読み込み\n",
    "from sklearn.datasets import load_iris\n",
    "iris=load_iris()\n",
    "X=iris.data\n",
    "y=iris.target"
   ]
  },
  {
   "cell_type": "raw",
   "metadata": {},
   "source": [
    "⒉データの標準化 "
   ]
  },
  {
   "cell_type": "code",
   "execution_count": 2,
   "metadata": {},
   "outputs": [],
   "source": [
    "#データの標準化\n",
    "from sklearn.preprocessing import StandardScaler\n",
    "ss=StandardScaler()\n",
    "X_std=ss.fit_transform(X)"
   ]
  },
  {
   "cell_type": "raw",
   "metadata": {},
   "source": [
    "⒊主成分分析の実行"
   ]
  },
  {
   "cell_type": "code",
   "execution_count": 3,
   "metadata": {},
   "outputs": [],
   "source": [
    "#主成分分析の実行\n",
    "from sklearn.decomposition import PCA\n",
    "pca=PCA(n_components=4)\n",
    "X_pca=pca.fit_transform(X_std)"
   ]
  },
  {
   "cell_type": "raw",
   "metadata": {},
   "source": [
    "⒋クラスタリングの実行"
   ]
  },
  {
   "cell_type": "code",
   "execution_count": 5,
   "metadata": {
    "scrolled": true
   },
   "outputs": [],
   "source": [
    "#k-means法の実行\n",
    "from sklearn.cluster import KMeans\n",
    "km=KMeans(n_clusters=3,\n",
    "          init=\"random\",\n",
    "          n_init=10,\n",
    "          max_iter=300,\n",
    "          tol=1e-04, \n",
    "          random_state=0)\n",
    "#クラスタの数、セントロイドの初期値の決め方(デフォはk-means++),\n",
    "#異なるセントロイドを用いての実行回数、一つのセントロイドを用いた時の繰り返し回数\n",
    "#収束と判定するための相対的な許容誤差、セントロイドの初期化時の乱数生成器の状態\n",
    "\n",
    "y_km=km.fit_predict(X_pca[:,0:2]) \n",
    "#第1,第2主成分からクラスラベルを予測"
   ]
  },
  {
   "cell_type": "raw",
   "metadata": {},
   "source": [
    "⒌クラスタリング結果のプロット"
   ]
  },
  {
   "cell_type": "code",
   "execution_count": 6,
   "metadata": {},
   "outputs": [
    {
     "data": {
      "image/png": "[encoded data removed]",
      "text/plain": [
       "<matplotlib.figure.Figure at 0x108f07438>"
      ]
     },
     "metadata": {},
     "output_type": "display_data"
    }
   ],
   "source": [
    "#クラスタリング結果をプロットする関数を定義\n",
    "def kmeans_plot(n_clusters,km,X):\n",
    "    y_km=km.fit_predict(X)\n",
    "    for i,color,marker in zip(range(n_clusters),\"rgbcm\",\">oxv\"):\n",
    "        plt.scatter(X[y_km==i,0],X[y_km==i,1],\n",
    "                   color=color,marker=marker,label=\"label\"+str(i))\n",
    "    \n",
    "    plt.scatter(km.cluster_centers_[:,0],km.cluster_centers_[:,1],\n",
    "               color=\"y\",marker=\"*\",label=\"centroids\",s=300)\n",
    "    plt.legend()\n",
    "    plt.grid()\n",
    "    plt.show()\n",
    "    \n",
    "#プロット\n",
    "kmeans_plot(3,km,X_pca[:,[0,1]])"
   ]
  },
  {
   "cell_type": "raw",
   "metadata": {},
   "source": []
  },
  {
   "cell_type": "raw",
   "metadata": {},
   "source": [
    "・実装(エルボー法)\n",
    "    (⒈ライブラリとデータの読み込み)\n",
    "    (⒉データの標準化)\n",
    "    (⒊主成分分析の実行)\n",
    "    ⒋kの値を変えながらk-means法を実行し、SSEを格納していく\n",
    "    ⒌プロット"
   ]
  },
  {
   "cell_type": "code",
   "execution_count": 7,
   "metadata": {},
   "outputs": [],
   "source": [
    "#SSEを格納するリストを用意\n",
    "distortions=[]\n",
    "\n",
    "#kの値を変えながらk-means法を実行し、SSEを格納していく\n",
    "from sklearn.cluster import KMeans\n",
    "for k in range(1,11):\n",
    "    km=KMeans(n_clusters=k,init=\"random\",\n",
    "             n_init=10,max_iter=300,\n",
    "             random_state=0)\n",
    "    km.fit(X_pca[:,0:2])\n",
    "    distortions.append(km.inertia_)"
   ]
  },
  {
   "cell_type": "code",
   "execution_count": 8,
   "metadata": {},
   "outputs": [
    {
     "data": {
      "image/png": "[encoded data removed]",
      "text/plain": [
       "<matplotlib.figure.Figure at 0x1a17f00cf8>"
      ]
     },
     "metadata": {},
     "output_type": "display_data"
    }
   ],
   "source": [
    "#SSEのプロット\n",
    "plt.plot(range(1,11),distortions,marker=\"o\")\n",
    "plt.xticks(np.arange(1,11,1))\n",
    "plt.xlabel(\"Number of clusters\")\n",
    "plt.ylabel(\"Ditortions\")\n",
    "plt.show()"
   ]
  },
  {
   "cell_type": "raw",
   "metadata": {},
   "source": []
  },
  {
   "cell_type": "raw",
   "metadata": {},
   "source": [
    "・実装(シルエット分析,3クラス)\n",
    "    (⒈ライブラリとデータの読み込み)\n",
    "    (⒉データの標準化)\n",
    "    (⒊主成分分析の実行)\n",
    "    ⒋クラスタリングの実行\n",
    "    ⒌シルエット係数の出力\n",
    "    ⒍シルエット図を出力"
   ]
  },
  {
   "cell_type": "raw",
   "metadata": {},
   "source": [
    "⒋クラスタリングの実行 "
   ]
  },
  {
   "cell_type": "code",
   "execution_count": 9,
   "metadata": {
    "scrolled": true
   },
   "outputs": [],
   "source": [
    "#クラスタリングの実行\n",
    "from sklearn.cluster import KMeans\n",
    "km=KMeans(n_clusters=3,\n",
    "          init=\"random\",\n",
    "         n_init=10,\n",
    "          max_iter=300,\n",
    "         tol=1e-04,\n",
    "          random_state=0)\n",
    "y_km=km.fit_predict(X_pca[:,0:2])"
   ]
  },
  {
   "cell_type": "raw",
   "metadata": {},
   "source": [
    "⒌シルエット係数の出力 "
   ]
  },
  {
   "cell_type": "code",
   "execution_count": 10,
   "metadata": {
    "scrolled": true
   },
   "outputs": [
    {
     "data": {
      "text/plain": [
       "array([0.7437586 , 0.58954614, 0.69409517, 0.64122155, 0.73369006,\n",
       "       0.61141915, 0.73511038, 0.74362968, 0.50135509, 0.65881326,\n",
       "       0.68571458, 0.74237058, 0.59842831, 0.56327201, 0.56628677,\n",
       "       0.4531917 , 0.62528033, 0.73935287, 0.59722791, 0.68463541,\n",
       "       0.69664134, 0.70278381, 0.71659332, 0.65310985, 0.73907159,\n",
       "       0.56794047, 0.72282242, 0.735419  , 0.73779078, 0.68998794,\n",
       "       0.64387074, 0.67403197, 0.59277666, 0.53806428, 0.65881326,\n",
       "       0.70266667, 0.70991422, 0.65881326, 0.57082221, 0.74027388,\n",
       "       0.74561258, 0.07387569, 0.66820107, 0.70668142, 0.66918434,\n",
       "       0.57672248, 0.68618886, 0.68751404, 0.69636903, 0.72662061,\n",
       "       0.46212585, 0.21972257, 0.48205205, 0.56842335, 0.18797752,\n",
       "       0.58705332, 0.29071226, 0.4273799 , 0.07138504, 0.61145173,\n",
       "       0.43386335, 0.37349002, 0.55612643, 0.37048656, 0.5300063 ,\n",
       "       0.26246967, 0.45841515, 0.61241816, 0.45906888, 0.61730613,\n",
       "       0.10900922, 0.5350552 , 0.43356197, 0.50707618, 0.29358085,\n",
       "       0.08030026, 0.06093282, 0.43397581, 0.41314614, 0.60564043,\n",
       "       0.59403512, 0.58734249, 0.61578107, 0.43777815, 0.50268433,\n",
       "       0.15927388, 0.3650558 , 0.51458696, 0.47264321, 0.61799592,\n",
       "       0.62795121, 0.25622038, 0.62806671, 0.45361512, 0.62319861,\n",
       "       0.45872978, 0.53641247, 0.39923994, 0.46010598, 0.58986426,\n",
       "       0.62682497, 0.41507594, 0.5944806 , 0.22433656, 0.54387247,\n",
       "       0.53549456, 0.59477736, 0.5602107 , 0.02301233, 0.50049898,\n",
       "       0.53833295, 0.00083154, 0.58314569, 0.44751641, 0.07847957,\n",
       "       0.59222715, 0.44309166, 0.43052702, 0.36508046, 0.44460901,\n",
       "       0.62414954, 0.44971076, 0.47862723, 0.20957798, 0.60644629,\n",
       "       0.62018394, 0.20310478, 0.01109978, 0.27996232, 0.61105691,\n",
       "       0.50927936, 0.4239499 , 0.30777848, 0.22873697, 0.42397951,\n",
       "       0.52998389, 0.58466791, 0.46817319, 0.08518424, 0.62425795,\n",
       "       0.61723868, 0.62664371, 0.41507594, 0.62546358, 0.61467697,\n",
       "       0.57395067, 0.26209185, 0.46664301, 0.54811396, 0.09858802])"
      ]
     },
     "execution_count": 10,
     "metadata": {},
     "output_type": "execute_result"
    }
   ],
   "source": [
    "#シルエット係数の確認\n",
    "from sklearn.metrics import silhouette_samples\n",
    "s=silhouette_samples(X_pca[:,0:2],y_km,metric=\"euclidean\")\n",
    "#\"euclidean\"はユークリッド距離\n",
    "\n",
    "s"
   ]
  },
  {
   "cell_type": "raw",
   "metadata": {},
   "source": [
    "⒍シルエット図の出力"
   ]
  },
  {
   "cell_type": "code",
   "execution_count": 11,
   "metadata": {},
   "outputs": [
    {
     "data": {
      "image/png": "[encoded data removed]",
      "text/plain": [
       "<matplotlib.figure.Figure at 0x1a1809f518>"
      ]
     },
     "metadata": {},
     "output_type": "display_data"
    }
   ],
   "source": [
    "#シルエット図を出力する関数を定義\n",
    "def draw_silhouettes(X,y_km):\n",
    "    cluster_labels=np.unique(y_km)  \n",
    "    #y_kmの要素を重複なくピックアップ\n",
    "    \n",
    "    n_clusters=cluster_labels.shape[0]\n",
    "    #cluster_labelの要素数を数える\n",
    "    \n",
    "    s=silhouette_samples(X,y_km,metric=\"euclidean\")\n",
    "    y_axis_lower,y_axis_upper=0,0\n",
    "    yticks=[]\n",
    "    for i,label in enumerate(cluster_labels):\n",
    "        label_s=s[y_km==label]\n",
    "        label_s.sort()\n",
    "        y_axis_upper+=len(label_s)\n",
    "        #y_axis_upperをクラスタのサンプル数だけ引き上げる\n",
    "        \n",
    "        from matplotlib import cm\n",
    "        color=cm.jet(float(i)/n_clusters)\n",
    "        \n",
    "        plt.barh(range(y_axis_lower,y_axis_upper),\n",
    "                label_s,height=1.0,color=color)\n",
    "        #バーを並べる範囲(y軸),バーの長さ,バー1本1本の厚み(固定),色\n",
    "        \n",
    "        yticks.append((y_axis_lower+y_axis_upper)/2)\n",
    "        #メモリをバーの範囲の真ん中に設定\n",
    "        \n",
    "        y_axis_lower+=len(label_s)\n",
    "        #次のクラスタのためにy_axis_lowerをクラスタのサンプル数だけ引き上げる\n",
    "    \n",
    "    plt.axvline(np.mean(s),color=\"red\",linestyle=\"--\")\n",
    "    plt.yticks(yticks,cluster_labels+1)\n",
    "    plt.ylabel(\"Cluster\")\n",
    "    plt.xlabel(\"silhouette coefficient\")\n",
    "    plt.show()\n",
    "    \n",
    "#シルエット図を出力\n",
    "draw_silhouettes(X_pca[:,[0,1]],y_km)"
   ]
  },
  {
   "cell_type": "code",
   "execution_count": null,
   "metadata": {},
   "outputs": [],
   "source": []
  },
  {
   "cell_type": "raw",
   "metadata": {},
   "source": [
    "・実装(シルエット分析,2クラス)\n",
    "    (⒈ライブラリとデータの読み込み)\n",
    "    (⒉データの標準化)\n",
    "    (⒊主成分分析の実行)\n",
    "    ⒋クラスタリングの実行\n",
    "    ⒌シルエット係数の出力\n",
    "    ⒍シルエット図を出力"
   ]
  },
  {
   "cell_type": "raw",
   "metadata": {},
   "source": []
  },
  {
   "cell_type": "code",
   "execution_count": 12,
   "metadata": {},
   "outputs": [],
   "source": [
    "#クラスタリングの実行\n",
    "from sklearn.cluster import KMeans\n",
    "km=KMeans(n_clusters=2,\n",
    "         init=\"random\",\n",
    "         n_init=10,\n",
    "         max_iter=300,\n",
    "         tol=1e-04,\n",
    "         random_state=0)\n",
    "y_km=km.fit_predict(X_pca[:,[0,1]])"
   ]
  },
  {
   "cell_type": "raw",
   "metadata": {},
   "source": [
    "⒌シルエット係数の確認"
   ]
  },
  {
   "cell_type": "code",
   "execution_count": 13,
   "metadata": {
    "scrolled": true
   },
   "outputs": [
    {
     "data": {
      "text/plain": [
       "array([0.77181721, 0.66475675, 0.7411025 , 0.70165051, 0.75971828,\n",
       "       0.62958913, 0.76973624, 0.77599278, 0.59356395, 0.71611752,\n",
       "       0.70912162, 0.7756659 , 0.6699705 , 0.63564418, 0.57923491,\n",
       "       0.45376   , 0.6436615 , 0.76803924, 0.61689773, 0.70670434,\n",
       "       0.73315303, 0.72712541, 0.74567398, 0.70435076, 0.77342906,\n",
       "       0.64928806, 0.75869614, 0.76396671, 0.76994592, 0.7388284 ,\n",
       "       0.70507987, 0.71334577, 0.60883654, 0.54829621, 0.71611752,\n",
       "       0.74810324, 0.7389729 , 0.71611752, 0.64536155, 0.77270036,\n",
       "       0.77397563, 0.27661495, 0.71870533, 0.7402808 , 0.69170665,\n",
       "       0.65525175, 0.70832311, 0.73581167, 0.71987649, 0.7649712 ,\n",
       "       0.59167416, 0.56663879, 0.64551596, 0.4310902 , 0.6867146 ,\n",
       "       0.55008118, 0.54040931, 0.13540586, 0.66605974, 0.3913465 ,\n",
       "       0.21197523, 0.56135835, 0.45841001, 0.63825802, 0.38006747,\n",
       "       0.61020254, 0.53873266, 0.46347057, 0.55345505, 0.42480177,\n",
       "       0.59608374, 0.58026328, 0.64601381, 0.61808898, 0.6310655 ,\n",
       "       0.64049452, 0.69714388, 0.68335834, 0.62749738, 0.3674659 ,\n",
       "       0.38604996, 0.35067853, 0.4941751 , 0.66634001, 0.49520912,\n",
       "       0.43389938, 0.63604815, 0.57508815, 0.42292531, 0.45679478,\n",
       "       0.47831656, 0.6075708 , 0.5071785 , 0.17942416, 0.5044828 ,\n",
       "       0.43098018, 0.49879526, 0.6052944 , 0.15753193, 0.50728753,\n",
       "       0.63579715, 0.66767706, 0.65039069, 0.70080939, 0.6836221 ,\n",
       "       0.59314161, 0.44918969, 0.65085953, 0.65211862, 0.48663637,\n",
       "       0.64477274, 0.69022468, 0.6773572 , 0.61906479, 0.69201469,\n",
       "       0.65706008, 0.69176729, 0.40924196, 0.56916166, 0.54346713,\n",
       "       0.62739483, 0.66341261, 0.5999264 , 0.68920061, 0.6145066 ,\n",
       "       0.6173271 , 0.69147691, 0.6754619 , 0.69138907, 0.66844567,\n",
       "       0.64490979, 0.39742354, 0.68764213, 0.6884059 , 0.65843614,\n",
       "       0.58562014, 0.60061867, 0.67484063, 0.6662477 , 0.65836528,\n",
       "       0.65800428, 0.65585563, 0.66767706, 0.63221256, 0.61031579,\n",
       "       0.67959798, 0.65332283, 0.69154952, 0.59604994, 0.67263853])"
      ]
     },
     "execution_count": 13,
     "metadata": {},
     "output_type": "execute_result"
    }
   ],
   "source": [
    "#シルエット係数の出力\n",
    "from sklearn.metrics import silhouette_samples\n",
    "s=silhouette_samples(X_pca[:,[0,1]],y_km,metric=\"euclidean\")\n",
    "s"
   ]
  },
  {
   "cell_type": "raw",
   "metadata": {},
   "source": [
    "⒍シルエット図の出力"
   ]
  },
  {
   "cell_type": "code",
   "execution_count": 14,
   "metadata": {},
   "outputs": [
    {
     "data": {
      "image/png": "[encoded data removed]",
      "text/plain": [
       "<matplotlib.figure.Figure at 0x1a18080f98>"
      ]
     },
     "metadata": {},
     "output_type": "display_data"
    }
   ],
   "source": [
    "#シルエット図の出力(サンプル数が違いすぎることがわかる)\n",
    "draw_silhouettes(X_pca[:,0:2],y_km)"
   ]
  },
  {
   "cell_type": "code",
   "execution_count": null,
   "metadata": {},
   "outputs": [],
   "source": []
  },
  {
   "cell_type": "raw",
   "metadata": {},
   "source": [
    "・実装(シルエット分析,4クラス)\n",
    "    (⒈ライブラリとデータの読み込み)\n",
    "    (⒉データの標準化)\n",
    "    (⒊主成分分析の実行)\n",
    "    ⒋クラスタリングの実行\n",
    "    ⒌シルエット係数の出力\n",
    "    ⒍シルエット図を出力"
   ]
  },
  {
   "cell_type": "raw",
   "metadata": {},
   "source": [
    "⒋クラスタリングの実行"
   ]
  },
  {
   "cell_type": "code",
   "execution_count": null,
   "metadata": {},
   "outputs": [],
   "source": [
    "#クラスタリングの実行\n",
    "from sklearn.cluster import KMeans\n",
    "km=KMeans(n_clusters=4,\n",
    "         init=\"random\",\n",
    "         n_init=10,\n",
    "         max_iter=300,\n",
    "         tol=1e-04,\n",
    "         random_state=0)\n",
    "y_km=km.fit_predict(X_pca[:,[0,1]])"
   ]
  },
  {
   "cell_type": "raw",
   "metadata": {},
   "source": [
    "⒌シルエット係数の出力"
   ]
  },
  {
   "cell_type": "code",
   "execution_count": 18,
   "metadata": {
    "scrolled": true
   },
   "outputs": [
    {
     "data": {
      "text/plain": [
       "array([ 0.30868042,  0.6864963 ,  0.65292373,  0.7012196 ,  0.43414717,\n",
       "        0.60096586,  0.34344005,  0.08449643,  0.61247127,  0.70191406,\n",
       "        0.61428318,  0.24749239,  0.69231825,  0.59876516,  0.55666256,\n",
       "        0.43511722,  0.60679374,  0.32731061,  0.58009026,  0.61234236,\n",
       "        0.19263393,  0.59076444,  0.15309639,  0.22699433,  0.23982612,\n",
       "        0.65191241,  0.02163611,  0.36818621,  0.04448494,  0.66358068,\n",
       "        0.69836407,  0.19336276,  0.53378219,  0.50659065,  0.70191406,\n",
       "        0.5946038 ,  0.46031652,  0.70191406,  0.64699529, -0.05274238,\n",
       "        0.2545843 ,  0.2949723 ,  0.62811028,  0.2849721 ,  0.61966414,\n",
       "        0.68030954,  0.6042865 ,  0.66020244,  0.60803206,  0.41090722,\n",
       "        0.4807199 ,  0.26855712,  0.50667311,  0.57545989,  0.08862406,\n",
       "        0.57424733,  0.32580503,  0.32095137,  0.01795719,  0.61611877,\n",
       "        0.34912279,  0.32582674,  0.56169389,  0.30479538,  0.52066929,\n",
       "        0.31505654,  0.4258135 ,  0.61149086,  0.45395981,  0.62449279,\n",
       "        0.17935686,  0.50929749,  0.4062586 ,  0.47167086,  0.21631296,\n",
       "        0.17065921,  0.15814242,  0.4725506 ,  0.35779622,  0.59811568,\n",
       "        0.60070064,  0.56872835,  0.61334426,  0.39543324,  0.48120687,\n",
       "        0.19596462,  0.40765209,  0.50876617,  0.45324978,  0.62456655,\n",
       "        0.63218453,  0.18183579,  0.62919724,  0.36054536,  0.62205241,\n",
       "        0.43706485,  0.51950122,  0.34626107,  0.36520455,  0.58111486,\n",
       "        0.62175126,  0.3737702 ,  0.59047224,  0.29206226,  0.55505697,\n",
       "        0.52811737,  0.60186051,  0.55863256,  0.06506814,  0.49318727,\n",
       "        0.55283658,  0.07702634,  0.58834837,  0.4301208 , -0.0308178 ,\n",
       "        0.59809501,  0.47907231,  0.42457571,  0.36567965,  0.43994007,\n",
       "        0.61637935,  0.40568688,  0.47525677,  0.13481305,  0.60289414,\n",
       "        0.61267576,  0.11472839,  0.12744576,  0.32304798,  0.611919  ,\n",
       "        0.51045227,  0.41844793,  0.3447148 ,  0.14076265,  0.38983037,\n",
       "        0.52240957,  0.58340895,  0.49980585,  0.00357029,  0.62227722,\n",
       "        0.6138586 ,  0.62336704,  0.3737702 ,  0.61800144,  0.60669863,\n",
       "        0.58084591,  0.22338014,  0.49784743,  0.55306396, -0.01121925])"
      ]
     },
     "execution_count": 18,
     "metadata": {},
     "output_type": "execute_result"
    }
   ],
   "source": [
    "#シルエット係数の出力\n",
    "from sklearn.metrics import silhouette_samples\n",
    "s=silhouette_samples(X_pca[:,[0,1]],y_km,metric=\"euclidean\")\n",
    "s"
   ]
  },
  {
   "cell_type": "raw",
   "metadata": {},
   "source": [
    "⒍シルエット図を出力"
   ]
  },
  {
   "cell_type": "code",
   "execution_count": 17,
   "metadata": {},
   "outputs": [
    {
     "data": {
      "image/png": "[encoded data removed]",
      "text/plain": [
       "<matplotlib.figure.Figure at 0x1a18080cc0>"
      ]
     },
     "metadata": {},
     "output_type": "display_data"
    }
   ],
   "source": [
    "#シルエット図の出力(シルエット係数が小さすぎるものがあることがわかる)\n",
    "draw_silhouettes(X_pca[:,0:2],y_km)"
   ]
  },
  {
   "cell_type": "code",
   "execution_count": null,
   "metadata": {},
   "outputs": [],
   "source": []
  }
 ],
 "metadata": {
  "kernelspec": {
   "display_name": "Python 3",
   "language": "python",
   "name": "python3"
  },
  "language_info": {
   "codemirror_mode": {
    "name": "ipython",
    "version": 3
   },
   "file_extension": ".py",
   "mimetype": "text/x-python",
   "name": "python",
   "nbconvert_exporter": "python",
   "pygments_lexer": "ipython3",
   "version": "3.6.4"
  }
 },
 "nbformat": 4,
 "nbformat_minor": 2
}
