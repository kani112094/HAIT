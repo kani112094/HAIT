{
 "cells": [
  {
   "cell_type": "markdown",
   "metadata": {},
   "source": [
    "# SVM"
   ]
  },
  {
   "cell_type": "raw",
   "metadata": {},
   "source": [
    "目次\n",
    "・svm概要\n",
    "・線形分離可能なデータの分類\n",
    "・線形分離不可能なデータ①の分類(スラック変数)\n",
    "・線形分離不可能なデータ②の分類(カーネル法)\n",
    "(全て2クラス分類)"
   ]
  },
  {
   "cell_type": "raw",
   "metadata": {},
   "source": []
  },
  {
   "cell_type": "raw",
   "metadata": {},
   "source": [
    "・svm概要\n",
    "    2本のサポートベクトルの距離マージンを最大化するように学習する。\n",
    "    マージンは以下の形で表される。\n",
    "        margine=2d=2×(|−a|/‖w‖)=2a/‖w‖\n",
    "    よってsvmの目的関数は以下の形で表される。\n",
    "        L(w)=(1/2)||w||^2\n",
    "\n",
    "・スラック変数\n",
    "    SVMのインスタンス生成時にCの値を設定すると、\n",
    "    目的関数にスラック変数　ζ　(定数)を含む項　C∑ζn　を加えることができる。\n",
    "    これにより誤分類への寛大さを調整できる。\n",
    "    Cの値が大きいほど誤分類に厳しくなる。\n",
    "    \n",
    "・カーネル法\n",
    "    線形分離を高次元空間内で行うことで、日線形分離を可能にする方法。\n",
    "    データ点を高次元空間に移動させ、線形分離したのちにデータ点と決定曲線を\n",
    "    元の空間に戻すことで、非線形分離が可能になる。\n",
    "    SVMのインスタンス生成時にkernelをrbfに指定することで可能になる。\n",
    "    Cの値が大きいほど誤分類に厳しくなる。\n",
    "    gammaの値が大きいほど決定曲線が複雑になる。"
   ]
  },
  {
   "cell_type": "raw",
   "metadata": {},
   "source": []
  },
  {
   "cell_type": "raw",
   "metadata": {},
   "source": [
    "・線形分離可能なデータの分類\n",
    "    ⒈データの準備(線形分離可能なデータの選択も含めて)\n",
    "    ⒉データの観察(線形分離可能かどうかの確認)\n",
    "    ⒊データの標準化\n",
    "    ⒋データの分割\n",
    "    ⒌データの学習\n",
    "    ⒍モデルの評価(決定曲線、正答率)"
   ]
  },
  {
   "cell_type": "raw",
   "metadata": {},
   "source": [
    "⒈データの準備"
   ]
  },
  {
   "cell_type": "code",
   "execution_count": 2,
   "metadata": {},
   "outputs": [],
   "source": [
    "#ライブラリの読み込み\n",
    "import numpy as np\n",
    "import pandas as pd\n",
    "import matplotlib.pyplot as plt\n",
    "%matplotlib inline\n",
    "#データセットの読み込み\n",
    "from sklearn.datasets import load_iris\n",
    "iris=load_iris()\n",
    "X1=iris.data[:100,[2,3]]\n",
    "y1=iris.target[:100]"
   ]
  },
  {
   "cell_type": "raw",
   "metadata": {},
   "source": [
    "⒉データの観察"
   ]
  },
  {
   "cell_type": "code",
   "execution_count": 3,
   "metadata": {},
   "outputs": [
    {
     "data": {
      "image/png": "[encoded data removed]",
      "text/plain": [
       "<matplotlib.figure.Figure at 0x1a09fb4c88>"
      ]
     },
     "metadata": {},
     "output_type": "display_data"
    }
   ],
   "source": [
    "#散布図を表示(線形分離可能であるかどうかの確認)\n",
    "plt.scatter(X1[:50,[0]],X1[:50,[1]],color=\"red\",marker=\"x\")\n",
    "plt.scatter(X1[50:,[0]],X1[50:,[1]])\n",
    "plt.show()"
   ]
  },
  {
   "cell_type": "raw",
   "metadata": {},
   "source": [
    "⒊データの標準化"
   ]
  },
  {
   "cell_type": "code",
   "execution_count": 4,
   "metadata": {},
   "outputs": [],
   "source": [
    "#データの標準化\n",
    "from sklearn.preprocessing import StandardScaler\n",
    "ss=StandardScaler()\n",
    "X1_std=ss.fit_transform(X1)"
   ]
  },
  {
   "cell_type": "raw",
   "metadata": {},
   "source": [
    "⒋データの分割"
   ]
  },
  {
   "cell_type": "code",
   "execution_count": 5,
   "metadata": {},
   "outputs": [],
   "source": [
    "#ホールドアウト法\n",
    "from sklearn.model_selection import train_test_split\n",
    "X1_train,X1_test,y1_train,y1_test=train_test_split(X1_std,y1,\n",
    "                                    test_size=0.3,random_state=0)"
   ]
  },
  {
   "cell_type": "raw",
   "metadata": {},
   "source": [
    "⒌データの学習"
   ]
  },
  {
   "cell_type": "code",
   "execution_count": 6,
   "metadata": {},
   "outputs": [
    {
     "data": {
      "text/plain": [
       "SVC(C=1.0, cache_size=200, class_weight=None, coef0=0.0,\n",
       "  decision_function_shape='ovr', degree=3, gamma='auto', kernel='linear',\n",
       "  max_iter=-1, probability=False, random_state=None, shrinking=True,\n",
       "  tol=0.001, verbose=False)"
      ]
     },
     "execution_count": 6,
     "metadata": {},
     "output_type": "execute_result"
    }
   ],
   "source": [
    "#データの学習\n",
    "from sklearn.svm import SVC\n",
    "svm1=SVC(kernel=\"linear\")\n",
    "svm1.fit(X1_train,y1_train)"
   ]
  },
  {
   "cell_type": "raw",
   "metadata": {},
   "source": [
    "⒍モデルの評価\n",
    "    ・決定曲線をプロット\n",
    "    ・正解率の出力"
   ]
  },
  {
   "cell_type": "code",
   "execution_count": 7,
   "metadata": {},
   "outputs": [
    {
     "name": "stdout",
     "output_type": "stream",
     "text": [
      "score:1.000000\n"
     ]
    },
    {
     "data": {
      "image/png": "[encoded data removed]",
      "text/plain": [
       "<matplotlib.figure.Figure at 0x1a0a5a1e48>"
      ]
     },
     "metadata": {},
     "output_type": "display_data"
    }
   ],
   "source": [
    "#決定曲線を出力する関数を定義\n",
    "def plot_decision_regions(X, y, classifier, resolution=0.02):\n",
    "    from matplotlib.colors import ListedColormap\n",
    "    markers = (\"s\", \"x\", \"o\", \"^\", \"v\")\n",
    "    colors = (\"red\", \"blue\", \"lightgreen\", \"gray\", \"cyan\")\n",
    "    cmap = ListedColormap(colors[:len(np.unique(y))])\n",
    "\n",
    "    x1_min, x1_max = X[:, 0].min()-1 , X[:, 0].max() +1\n",
    "    x2_min, x2_max = X[:, 1].min()-1 , X[:, 1].max() +1\n",
    "\n",
    "    xx1, xx2 = np.meshgrid(np.arange(x1_min, x1_max, resolution), np.arange(x2_min, x2_max, resolution))\n",
    "    Z = classifier.predict(np.array([xx1.ravel(), xx2.ravel()]).T)\n",
    "    Z = Z.reshape(xx1.shape)\n",
    "    plt.contourf(xx1, xx2, Z, alpha=0.4, cmap=cmap)\n",
    "\n",
    "    plt.xlim(xx1.min(), xx1.max())\n",
    "    plt.ylim(xx2.min(), xx2.max())\n",
    "\n",
    "    for idx, cl in enumerate(np.unique(y)):\n",
    "        plt.scatter(x=X[y == cl, 0], y=X[y == cl, 1], alpha=0.8, c=cmap(idx),marker=markers[idx], label=cl)\n",
    "\n",
    "\n",
    "#決定曲線のプロット\n",
    "plot_decision_regions(X1_std,y1,svm1)\n",
    "#正答率の出力\n",
    "print(\"score:%f\"%svm1.score(X1_test,y1_test))"
   ]
  },
  {
   "cell_type": "raw",
   "metadata": {},
   "source": []
  },
  {
   "cell_type": "raw",
   "metadata": {},
   "source": [
    "・線形分離不可能なデータ①の分類\n",
    "    ⒈データの準備(線形分離可能なデータの選択も含めて)\n",
    "    ⒉データの観察(線形分離可能かどうかの確認)\n",
    "    ⒊データの標準化\n",
    "    ⒋データの分割\n",
    "    ⒌データの学習\n",
    "    ⒍モデルの評価(決定曲線、正答率)"
   ]
  },
  {
   "cell_type": "raw",
   "metadata": {},
   "source": [
    "⒈データの準備"
   ]
  },
  {
   "cell_type": "code",
   "execution_count": 8,
   "metadata": {},
   "outputs": [],
   "source": [
    "#ライブラリの読み込み\n",
    "import numpy as np\n",
    "import pandas as pd\n",
    "import matplotlib.pyplot as plt\n",
    "%matplotlib inline\n",
    "#データの読み込み\n",
    "from sklearn.datasets import load_iris\n",
    "iris=load_iris()\n",
    "X2=iris.data[50:,[2,3]]\n",
    "y2=iris.target[50:]"
   ]
  },
  {
   "cell_type": "raw",
   "metadata": {},
   "source": [
    "⒉データの観察(線形分離不可能かどうかの確認)"
   ]
  },
  {
   "cell_type": "code",
   "execution_count": 9,
   "metadata": {},
   "outputs": [
    {
     "data": {
      "image/png": "[encoded data removed]",
      "text/plain": [
       "<matplotlib.figure.Figure at 0x1a0a749fd0>"
      ]
     },
     "metadata": {},
     "output_type": "display_data"
    }
   ],
   "source": [
    "#散布図を出力\n",
    "plt.scatter(X2[:50,[0]],X2[:50,[1]],color=\"red\",marker=\"x\")\n",
    "plt.scatter(X2[50:,[0]],X2[50:,[1]])\n",
    "plt.show()"
   ]
  },
  {
   "cell_type": "raw",
   "metadata": {},
   "source": [
    "⒊データの標準化"
   ]
  },
  {
   "cell_type": "code",
   "execution_count": 10,
   "metadata": {},
   "outputs": [],
   "source": [
    "#データの標準化\n",
    "from sklearn.preprocessing import StandardScaler\n",
    "ss=StandardScaler()\n",
    "X2_std=ss.fit_transform(X2)"
   ]
  },
  {
   "cell_type": "raw",
   "metadata": {},
   "source": [
    "⒋データの分割"
   ]
  },
  {
   "cell_type": "code",
   "execution_count": 11,
   "metadata": {},
   "outputs": [],
   "source": [
    "#ホールドアウト法\n",
    "X2_train,X2_test,y2_train,y2_test=train_test_split(X2_std,y2,\n",
    "                                    test_size=0.3,random_state=0)"
   ]
  },
  {
   "cell_type": "raw",
   "metadata": {},
   "source": [
    "⒌データの学習"
   ]
  },
  {
   "cell_type": "code",
   "execution_count": 12,
   "metadata": {},
   "outputs": [
    {
     "data": {
      "text/plain": [
       "SVC(C=1.0, cache_size=200, class_weight=None, coef0=0.0,\n",
       "  decision_function_shape='ovr', degree=3, gamma='auto', kernel='linear',\n",
       "  max_iter=-1, probability=False, random_state=None, shrinking=True,\n",
       "  tol=0.001, verbose=False)"
      ]
     },
     "execution_count": 12,
     "metadata": {},
     "output_type": "execute_result"
    }
   ],
   "source": [
    "#データの学習\n",
    "from sklearn.svm import SVC\n",
    "svm2=SVC(kernel=\"linear\")\n",
    "svm2.fit(X2_train,y2_train)"
   ]
  },
  {
   "cell_type": "raw",
   "metadata": {},
   "source": [
    "⒍モデルの評価\n",
    "    ・決定曲線の出力\n",
    "    ・正答率の出力"
   ]
  },
  {
   "cell_type": "code",
   "execution_count": 13,
   "metadata": {},
   "outputs": [
    {
     "name": "stdout",
     "output_type": "stream",
     "text": [
      "score:0.966667\n"
     ]
    },
    {
     "data": {
      "image/png": "[encoded data removed]",
      "text/plain": [
       "<matplotlib.figure.Figure at 0x1a0a7540f0>"
      ]
     },
     "metadata": {},
     "output_type": "display_data"
    }
   ],
   "source": [
    "#決定曲線の出力\n",
    "plot_decision_regions(X2_std,y2,svm2)\n",
    "#正答率の出力\n",
    "print(\"score:%f\"%svm2.score(X2_test,y2_test))"
   ]
  },
  {
   "cell_type": "raw",
   "metadata": {},
   "source": [
    " "
   ]
  },
  {
   "cell_type": "raw",
   "metadata": {},
   "source": [
    "・線形分離不可能なデータ②の分類\n",
    "    ⒈データの準備(線形分離可能なデータの選択も含めて)\n",
    "    ⒉データの観察(線形分離可能かどうかの確認)\n",
    "    ⒊データの標準化\n",
    "    ⒋データの分割\n",
    "    ⒌データの学習\n",
    "    ⒍モデルの評価(決定曲線、正答率)"
   ]
  },
  {
   "cell_type": "raw",
   "metadata": {},
   "source": [
    "⒈データの準備"
   ]
  },
  {
   "cell_type": "code",
   "execution_count": 14,
   "metadata": {},
   "outputs": [],
   "source": [
    "#ライブラリの読み込み\n",
    "import numpy as np\n",
    "import pandas as pd\n",
    "import matplotlib.pyplot as plt\n",
    "%matplotlib inline\n",
    "\n",
    "#データセットの作成\n",
    "np.random.seed(0)\n",
    "X3 = np.random.randn(200, 2)\n",
    "y3 = np.logical_xor(X3[:, 0] > 0, X3[:, 1] > 0)\n",
    "y3 = np.where(y3, 1, -1)"
   ]
  },
  {
   "cell_type": "raw",
   "metadata": {},
   "source": [
    "⒉データの観察(線形分離不可能かどうかの確認)"
   ]
  },
  {
   "cell_type": "code",
   "execution_count": 15,
   "metadata": {},
   "outputs": [
    {
     "data": {
      "image/png": "[encoded data removed]",
      "text/plain": [
       "<matplotlib.figure.Figure at 0x1a0b3c4be0>"
      ]
     },
     "metadata": {},
     "output_type": "display_data"
    }
   ],
   "source": [
    "# データのプロット\n",
    "plt.scatter(X3[y3 == 1, 0], X3[y3 == 1, 1], c='b', marker='x', label='1')\n",
    "plt.scatter(X3[y3 == -1, 0], X3[y3 == -1, 1], c='r', marker='s', label='-1')\n",
    "plt.xlim([-3, 3])\n",
    "plt.ylim([-3, 3])\n",
    "plt.legend(loc='best') \n",
    "plt.show()"
   ]
  },
  {
   "cell_type": "raw",
   "metadata": {},
   "source": [
    "⒊データの標準化"
   ]
  },
  {
   "cell_type": "code",
   "execution_count": 22,
   "metadata": {},
   "outputs": [],
   "source": [
    "from sklearn.preprocessing import StandardScaler\n",
    "ss=StandardScaler()\n",
    "X3_std=ss.fit_transform(X3)"
   ]
  },
  {
   "cell_type": "raw",
   "metadata": {},
   "source": [
    "⒋データの分割"
   ]
  },
  {
   "cell_type": "code",
   "execution_count": 23,
   "metadata": {},
   "outputs": [],
   "source": [
    "#ホールドアウト法\n",
    "from sklearn.model_selection import train_test_split\n",
    "X3_train,X3_test,y3_train,y3_test=train_test_split(X3_std,y3,\n",
    "                                        test_size=0.3,random_state=0)"
   ]
  },
  {
   "cell_type": "raw",
   "metadata": {},
   "source": [
    "⒌データの学習"
   ]
  },
  {
   "cell_type": "code",
   "execution_count": 24,
   "metadata": {},
   "outputs": [
    {
     "data": {
      "text/plain": [
       "SVC(C=10, cache_size=200, class_weight=None, coef0=0.0,\n",
       "  decision_function_shape='ovr', degree=3, gamma=0.1, kernel='rbf',\n",
       "  max_iter=-1, probability=False, random_state=None, shrinking=True,\n",
       "  tol=0.001, verbose=False)"
      ]
     },
     "execution_count": 24,
     "metadata": {},
     "output_type": "execute_result"
    }
   ],
   "source": [
    "#データの学習\n",
    "from sklearn.svm import SVC\n",
    "svm3=SVC(kernel=\"rbf\",gamma=0.1,C=10)\n",
    "svm3.fit(X3_train,y3_train)"
   ]
  },
  {
   "cell_type": "raw",
   "metadata": {
    "collapsed": true
   },
   "source": [
    "⒍モデルの評価\n",
    "    ・決定曲線の出力\n",
    "    ・精度の出力"
   ]
  },
  {
   "cell_type": "code",
   "execution_count": 26,
   "metadata": {},
   "outputs": [
    {
     "name": "stdout",
     "output_type": "stream",
     "text": [
      "score:0.900000\n"
     ]
    },
    {
     "data": {
      "image/png": "[encoded data removed]",
      "text/plain": [
       "<matplotlib.figure.Figure at 0x1a0bb85e10>"
      ]
     },
     "metadata": {},
     "output_type": "display_data"
    }
   ],
   "source": [
    "#決定曲線の出力\n",
    "plot_decision_regions(X3_std,y3,svm3)\n",
    "#正答率の出力\n",
    "print(\"score:%f\"%svm3.score(X3_test,y3_test))"
   ]
  },
  {
   "cell_type": "code",
   "execution_count": null,
   "metadata": {},
   "outputs": [],
   "source": []
  }
 ],
 "metadata": {
  "kernelspec": {
   "display_name": "Python 3",
   "language": "python",
   "name": "python3"
  },
  "language_info": {
   "codemirror_mode": {
    "name": "ipython",
    "version": 3
   },
   "file_extension": ".py",
   "mimetype": "text/x-python",
   "name": "python",
   "nbconvert_exporter": "python",
   "pygments_lexer": "ipython3",
   "version": "3.6.4"
  },
  "widgets": {
   "state": {},
   "version": "1.1.2"
  }
 },
 "nbformat": 4,
 "nbformat_minor": 2
}
