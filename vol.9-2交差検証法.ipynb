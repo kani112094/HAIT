{
 "cells": [
  {
   "cell_type": "raw",
   "metadata": {},
   "source": [
    "目次\n",
    "・交差検証法概要\n",
    "・交差検証法の実装(bostonデータ)\n",
    "・層化交差検証法の実装(irisデータ)"
   ]
  },
  {
   "cell_type": "raw",
   "metadata": {},
   "source": [
    "・交差検証法\n",
    "    交差検証法とはモデルの汎化性能を信頼高く見積もる手法である。\n",
    "    方法としては、データをk分割し、それぞれをtestデータとしたときの\n",
    "    精度の平均を精度として用いる。\n",
    "    kは5~10で、データが少ないほどkを大きくする必要がある。\n",
    "\n",
    "・層化交差検証法\n",
    "    層化交差検証法とは、k分割したデータに各クラスのデータが同じ数だけ\n",
    "    含まれるように分割する方法である。"
   ]
  },
  {
   "cell_type": "raw",
   "metadata": {},
   "source": []
  },
  {
   "cell_type": "raw",
   "metadata": {},
   "source": [
    "・実装(交差検証法)\n",
    "    ⒈データの準備\n",
    "    ⒉データの標準化\n",
    "    ⒊分割方法を選択\n",
    "    ⒋学習方法を選択\n",
    "    ⒌交差検証法を実行\n",
    "    ⒍精度を出力"
   ]
  },
  {
   "cell_type": "raw",
   "metadata": {},
   "source": [
    "⒈データの準備"
   ]
  },
  {
   "cell_type": "code",
   "execution_count": 2,
   "metadata": {
    "scrolled": true
   },
   "outputs": [],
   "source": [
    "#ライブラリの読み込み\n",
    "import numpy as np\n",
    "import pandas as pd\n",
    "import matplotlib.pyplot as plt\n",
    "%matplotlib inline\n",
    "#データセットの読み込み\n",
    "from sklearn.datasets import load_boston\n",
    "boston=load_boston()\n",
    "#DFの作成\n",
    "df_data=pd.DataFrame(boston.data,columns=boston.feature_names)\n",
    "df_target=pd.DataFrame(boston.target,columns=[\"MEDV\"])\n",
    "df=pd.concat([df_data,df_target],axis=1)\n",
    "#変数を選択\n",
    "X3=df.loc[:,[\"LSTAT\",\"RM\"]].values\n",
    "y3=df.loc[:,[\"MEDV\"]].values"
   ]
  },
  {
   "cell_type": "raw",
   "metadata": {},
   "source": [
    "⒉データの標準化"
   ]
  },
  {
   "cell_type": "code",
   "execution_count": 3,
   "metadata": {},
   "outputs": [],
   "source": [
    "#データの標準化\n",
    "from sklearn.preprocessing import StandardScaler\n",
    "ss=StandardScaler()\n",
    "X3_std=ss.fit_transform(X3)"
   ]
  },
  {
   "cell_type": "code",
   "execution_count": null,
   "metadata": {},
   "outputs": [],
   "source": [
    "⒊分割方法を指定"
   ]
  },
  {
   "cell_type": "code",
   "execution_count": 4,
   "metadata": {},
   "outputs": [],
   "source": [
    "#分割方法を指定\n",
    "from sklearn.model_selection import KFold\n",
    "kf=KFold(n_splits=5,shuffle=True,random_state=0)"
   ]
  },
  {
   "cell_type": "raw",
   "metadata": {},
   "source": [
    "⒋学習方法の選択"
   ]
  },
  {
   "cell_type": "code",
   "execution_count": 5,
   "metadata": {},
   "outputs": [],
   "source": [
    "#学習方法を選択\n",
    "from sklearn.linear_model import LinearRegression\n",
    "lr=LinearRegression()"
   ]
  },
  {
   "cell_type": "raw",
   "metadata": {},
   "source": [
    "⒌交差検証法を実行"
   ]
  },
  {
   "cell_type": "code",
   "execution_count": 6,
   "metadata": {},
   "outputs": [],
   "source": [
    "#交差検証法を実行\n",
    "from sklearn.model_selection import cross_val_score\n",
    "scores=cross_val_score(lr,X3_std,y3,cv=kf)"
   ]
  },
  {
   "cell_type": "raw",
   "metadata": {},
   "source": [
    "⒍精度を出力"
   ]
  },
  {
   "cell_type": "code",
   "execution_count": 7,
   "metadata": {},
   "outputs": [
    {
     "name": "stdout",
     "output_type": "stream",
     "text": [
      "scores:[0.54090848 0.70922084 0.57458547 0.55307476 0.738459  ]\n",
      "mean:0.623250\n",
      "std:0.083351\n"
     ]
    }
   ],
   "source": [
    "#各分割の精度を出力\n",
    "print(\"scores:%s\"%scores)\n",
    "#精度の平均\n",
    "print(\"mean:%f\"%scores.mean())\n",
    "#精度の標準偏差\n",
    "print(\"std:%f\"%scores.std())"
   ]
  },
  {
   "cell_type": "code",
   "execution_count": null,
   "metadata": {},
   "outputs": [],
   "source": []
  },
  {
   "cell_type": "raw",
   "metadata": {},
   "source": [
    "・実装(層化交差検証法)\n",
    "    ⒈データの準備\n",
    "    ⒉データの標準化\n",
    "    ⒊分割方法を選択\n",
    "    ⒋学習方法を選択\n",
    "    ⒌交差検証法を実行\n",
    "    ⒍精度を出力"
   ]
  },
  {
   "cell_type": "raw",
   "metadata": {
    "collapsed": true
   },
   "source": [
    "⒈データの準備"
   ]
  },
  {
   "cell_type": "code",
   "execution_count": 8,
   "metadata": {
    "scrolled": true
   },
   "outputs": [],
   "source": [
    "#ライブラリの読み込み\n",
    "import numpy as np\n",
    "import pandas as pd\n",
    "import matplotlib.pyplot as plt\n",
    "%matplotlib inline\n",
    "#データセットの読み込み\n",
    "from sklearn.datasets import load_iris\n",
    "iris=load_iris()\n",
    "#変数の選択\n",
    "X4=iris.data[:,[2,3]]\n",
    "y4=iris.target"
   ]
  },
  {
   "cell_type": "raw",
   "metadata": {},
   "source": [
    "⒉データの標準化"
   ]
  },
  {
   "cell_type": "code",
   "execution_count": 11,
   "metadata": {},
   "outputs": [],
   "source": [
    "#データの標準化\n",
    "from sklearn.preprocessing import StandardScaler\n",
    "ss=StandardScaler()\n",
    "X4_std=StandardScaler(X4)"
   ]
  },
  {
   "cell_type": "raw",
   "metadata": {},
   "source": [
    "⒊分割方法を選択"
   ]
  },
  {
   "cell_type": "code",
   "execution_count": 12,
   "metadata": {},
   "outputs": [],
   "source": [
    "#分割方法を選択\n",
    "from sklearn.model_selection import StratifiedKFold\n",
    "kf4=StratifiedKFold(n_splits=10,shuffle=True,random_state=0)"
   ]
  },
  {
   "cell_type": "raw",
   "metadata": {},
   "source": [
    "⒋学習方法を選択"
   ]
  },
  {
   "cell_type": "code",
   "execution_count": 13,
   "metadata": {},
   "outputs": [],
   "source": [
    "#学習方法を選択\n",
    "from sklearn.svm import SVC\n",
    "svm4=SVC(kernel=\"rbf\",C=1.0,gamma=0.1)"
   ]
  },
  {
   "cell_type": "raw",
   "metadata": {},
   "source": [
    "⒋交差検証法を実行"
   ]
  },
  {
   "cell_type": "code",
   "execution_count": 16,
   "metadata": {},
   "outputs": [],
   "source": [
    "#交差検証法を実行\n",
    "from sklearn.model_selection import cross_val_score\n",
    "scores4=cross_val_score(svm4,X4,y4,cv=kf4)"
   ]
  },
  {
   "cell_type": "raw",
   "metadata": {},
   "source": [
    "⒌精度を出力"
   ]
  },
  {
   "cell_type": "code",
   "execution_count": 15,
   "metadata": {},
   "outputs": [
    {
     "ename": "NameError",
     "evalue": "name 'scores4' is not defined",
     "output_type": "error",
     "traceback": [
      "\u001b[0;31m---------------------------------------------------------------------------\u001b[0m",
      "\u001b[0;31mNameError\u001b[0m                                 Traceback (most recent call last)",
      "\u001b[0;32m<ipython-input-15-0f4a066b8426>\u001b[0m in \u001b[0;36m<module>\u001b[0;34m()\u001b[0m\n\u001b[1;32m      1\u001b[0m \u001b[0;31m#各分割の精度を出力\u001b[0m\u001b[0;34m\u001b[0m\u001b[0;34m\u001b[0m\u001b[0m\n\u001b[0;32m----> 2\u001b[0;31m \u001b[0mprint\u001b[0m\u001b[0;34m(\u001b[0m\u001b[0;34m\"scores:%s\"\u001b[0m\u001b[0;34m%\u001b[0m\u001b[0mscores4\u001b[0m\u001b[0;34m)\u001b[0m\u001b[0;34m\u001b[0m\u001b[0m\n\u001b[0m\u001b[1;32m      3\u001b[0m \u001b[0;31m#精度の平均を出力\u001b[0m\u001b[0;34m\u001b[0m\u001b[0;34m\u001b[0m\u001b[0m\n\u001b[1;32m      4\u001b[0m \u001b[0mprint\u001b[0m\u001b[0;34m(\u001b[0m\u001b[0;34m\"mean:%f\"\u001b[0m\u001b[0;34m%\u001b[0m\u001b[0mscores4\u001b[0m\u001b[0;34m.\u001b[0m\u001b[0mmean\u001b[0m\u001b[0;34m(\u001b[0m\u001b[0;34m)\u001b[0m\u001b[0;34m)\u001b[0m\u001b[0;34m\u001b[0m\u001b[0m\n\u001b[1;32m      5\u001b[0m \u001b[0;31m#精度の標準偏差を出力\u001b[0m\u001b[0;34m\u001b[0m\u001b[0;34m\u001b[0m\u001b[0m\n",
      "\u001b[0;31mNameError\u001b[0m: name 'scores4' is not defined"
     ]
    }
   ],
   "source": [
    "#各分割の精度を出力\n",
    "print(\"scores:%s\"%scores4)\n",
    "#精度の平均を出力\n",
    "print(\"mean:%f\"%scores4.mean())\n",
    "#精度の標準偏差を出力\n",
    "print(\"std:%f\"%scores4.std())"
   ]
  },
  {
   "cell_type": "code",
   "execution_count": null,
   "metadata": {
    "collapsed": true
   },
   "outputs": [],
   "source": []
  }
 ],
 "metadata": {
  "kernelspec": {
   "display_name": "Python 3",
   "language": "python",
   "name": "python3"
  },
  "language_info": {
   "codemirror_mode": {
    "name": "ipython",
    "version": 3
   },
   "file_extension": ".py",
   "mimetype": "text/x-python",
   "name": "python",
   "nbconvert_exporter": "python",
   "pygments_lexer": "ipython3",
   "version": "3.6.4"
  }
 },
 "nbformat": 4,
 "nbformat_minor": 2
}
