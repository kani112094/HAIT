{
 "cells": [
  {
   "cell_type": "raw",
   "metadata": {},
   "source": [
    "目次\n",
    "・グリッドサーチの実装"
   ]
  },
  {
   "cell_type": "raw",
   "metadata": {},
   "source": [
    "・グリッドサーチの実装\n",
    "    ⒈データの準備\n",
    "    ⒉データの分割\n",
    "    ⒊グリッドサーチでの分割方法の指定\n",
    "    ⒋学習方法の指定\n",
    "    ⒌調整したいパラメータを指定\n",
    "    ⒍グリッドサートを実行\n",
    "    ⒎結果の確認"
   ]
  },
  {
   "cell_type": "raw",
   "metadata": {},
   "source": [
    "⒈データの準備 "
   ]
  },
  {
   "cell_type": "code",
   "execution_count": 9,
   "metadata": {},
   "outputs": [
    {
     "data": {
      "image/png": "[encoded data removed]",
      "text/plain": [
       "<matplotlib.figure.Figure at 0x10c35f3c8>"
      ]
     },
     "metadata": {},
     "output_type": "display_data"
    }
   ],
   "source": [
    "#ライブラリの読み込み\n",
    "import numpy as np\n",
    "import pandas as pd\n",
    "import matplotlib.pyplot as plt\n",
    "%matplotlib inline\n",
    "\n",
    "# XORのデータの作成\n",
    "np.random.seed(0)\n",
    "X1 = np.random.randn(200, 2)\n",
    "y1 = np.logical_xor(X1[:, 0] > 0, X1[:, 1] > 0)\n",
    "y1 = np.where(y1, 1, -1)\n",
    "\n",
    "# データのプロット\n",
    "plt.scatter(X1[y1 == 1, 0], X1[y1 == 1, 1], c='b', marker='x', label='1')\n",
    "plt.scatter(X1[y1 == -1, 0], X1[y1 == -1, 1], c='r', marker='s', label='-1')\n",
    "plt.xlim([-3, 3])\n",
    "plt.ylim([-3, 3])\n",
    "plt.legend(loc='best') # 右上に凡例を出力\n",
    "plt.show()"
   ]
  },
  {
   "cell_type": "raw",
   "metadata": {},
   "source": [
    "⒉データの分割"
   ]
  },
  {
   "cell_type": "code",
   "execution_count": 10,
   "metadata": {},
   "outputs": [],
   "source": [
    "#ホールドアウト法\n",
    "from sklearn.model_selection import train_test_split\n",
    "X1_train,X1_test,y1_train,y1_test=train_test_split=train_test_split(\n",
    "    X1,y1,test_size=0.3,random_state=0)"
   ]
  },
  {
   "cell_type": "raw",
   "metadata": {},
   "source": [
    "⒊グリッドサーチでの分割方法を指定"
   ]
  },
  {
   "cell_type": "code",
   "execution_count": 11,
   "metadata": {},
   "outputs": [],
   "source": [
    "#グリッドサーチでの分割方法を指定\n",
    "from sklearn.model_selection import StratifiedKFold\n",
    "kf1=StratifiedKFold(n_splits=10,shuffle=True,random_state=0)"
   ]
  },
  {
   "cell_type": "raw",
   "metadata": {},
   "source": [
    "⒋学習方法の指定"
   ]
  },
  {
   "cell_type": "code",
   "execution_count": 12,
   "metadata": {},
   "outputs": [],
   "source": [
    "#学習方法の指定\n",
    "from sklearn.svm import SVC"
   ]
  },
  {
   "cell_type": "raw",
   "metadata": {},
   "source": [
    "⒌パラメータの指定"
   ]
  },
  {
   "cell_type": "code",
   "execution_count": 13,
   "metadata": {},
   "outputs": [],
   "source": [
    "param_grid={\"C\":[0.1,1.0,10,100,1000,10000],\n",
    "           \"gamma\":[0.001,0.01,0.1,1,10]}"
   ]
  },
  {
   "cell_type": "raw",
   "metadata": {},
   "source": [
    "⒍グリッドサーチの実行"
   ]
  },
  {
   "cell_type": "code",
   "execution_count": 14,
   "metadata": {},
   "outputs": [
    {
     "data": {
      "text/plain": [
       "GridSearchCV(cv=StratifiedKFold(n_splits=10, random_state=0, shuffle=True),\n",
       "       error_score='raise',\n",
       "       estimator=SVC(C=1.0, cache_size=200, class_weight=None, coef0=0.0,\n",
       "  decision_function_shape='ovr', degree=3, gamma='auto', kernel='rbf',\n",
       "  max_iter=-1, probability=False, random_state=None, shrinking=True,\n",
       "  tol=0.001, verbose=False),\n",
       "       fit_params=None, iid=True, n_jobs=1,\n",
       "       param_grid={'C': [0.1, 1.0, 10, 100, 1000, 10000], 'gamma': [0.001, 0.01, 0.1, 1, 10]},\n",
       "       pre_dispatch='2*n_jobs', refit=True, return_train_score='warn',\n",
       "       scoring=None, verbose=0)"
      ]
     },
     "execution_count": 14,
     "metadata": {},
     "output_type": "execute_result"
    }
   ],
   "source": [
    "#グリッドサーチの実行\n",
    "from sklearn.model_selection import GridSearchCV\n",
    "gs=GridSearchCV(SVC(),param_grid,cv=kf1)\n",
    "gs.fit(X1_train,y1_train)"
   ]
  },
  {
   "cell_type": "raw",
   "metadata": {},
   "source": [
    "⒍結果の確認\n",
    "    ・test精度が最も高かった組み合わせとその時の精度を出力\n",
    "    ・実際のtest精度を出力\n",
    "    ・決定曲線の出力"
   ]
  },
  {
   "cell_type": "code",
   "execution_count": 18,
   "metadata": {},
   "outputs": [
    {
     "name": "stdout",
     "output_type": "stream",
     "text": [
      "best params:{'C': 100, 'gamma': 0.1}\n",
      "best socore:0.971429\n",
      "score:0.983333\n"
     ]
    },
    {
     "data": {
      "image/png": "[encoded data removed]",
      "text/plain": [
       "<matplotlib.figure.Figure at 0x1a1203c278>"
      ]
     },
     "metadata": {},
     "output_type": "display_data"
    }
   ],
   "source": [
    "#test精度が最も高かった組み合わせを出力\n",
    "print(\"best params:%s\"%gs.best_params_)\n",
    "\n",
    "#その時のtest精度の平均\n",
    "print(\"best socore:%f\"%gs.best_score_)\n",
    "\n",
    "#実際のtest精度\n",
    "print(\"score:%f\"%gs.score(X1_test,y1_test))\n",
    "\n",
    "#決定曲線を出力する関数を定義\n",
    "def plot_decision_regions(X, y, classifier, resolution=0.02):\n",
    "    from matplotlib.colors import ListedColormap\n",
    "    markers = (\"s\", \"x\", \"o\", \"^\", \"v\")\n",
    "    colors = (\"red\", \"blue\", \"lightgreen\", \"gray\", \"cyan\")\n",
    "    cmap = ListedColormap(colors[:len(np.unique(y))])\n",
    "    \n",
    "    x1_min, x1_max = X[:, 0].min()-1 , X[:, 0].max() +1\n",
    "    x2_min, x2_max = X[:, 1].min()-1 , X[:, 1].max() +1\n",
    "    \n",
    "    xx1, xx2 = np.meshgrid(np.arange(x1_min, x1_max, resolution), np.arange(x2_min, x2_max, resolution))\n",
    "    Z = classifier.predict(np.array([xx1.ravel(), xx2.ravel()]).T)\n",
    "    Z = Z.reshape(xx1.shape)\n",
    "    plt.contourf(xx1, xx2, Z, alpha=0.4, cmap=cmap)\n",
    "    plt.xlim(xx1.min(), xx1.max())\n",
    "    plt.ylim(xx2.min(), xx2.max())\n",
    "    for idx, cl in enumerate(np.unique(y)):\n",
    "        plt.scatter(x=X[y == cl, 0], y=X[y == cl, 1], alpha=0.8, c=cmap(idx),marker=markers[idx], label=cl)\n",
    "    plt.show()\n",
    "\n",
    "#決定曲線を出力\n",
    "plot_decision_regions(X1,y1,gs)"
   ]
  },
  {
   "cell_type": "code",
   "execution_count": null,
   "metadata": {
    "collapsed": true
   },
   "outputs": [],
   "source": []
  }
 ],
 "metadata": {
  "kernelspec": {
   "display_name": "Python 3",
   "language": "python",
   "name": "python3"
  },
  "language_info": {
   "codemirror_mode": {
    "name": "ipython",
    "version": 3
   },
   "file_extension": ".py",
   "mimetype": "text/x-python",
   "name": "python",
   "nbconvert_exporter": "python",
   "pygments_lexer": "ipython3",
   "version": "3.6.4"
  }
 },
 "nbformat": 4,
 "nbformat_minor": 2
}
